{
 "cells": [
  {
   "cell_type": "code",
   "execution_count": 92,
   "id": "484b4bcf",
   "metadata": {},
   "outputs": [],
   "source": [
    "import pandas as pd\n",
    "import numpy as np\n",
    "import json\n",
    "import requests as r\n",
    "import time\n",
    "from tqdm import tqdm"
   ]
  },
  {
   "cell_type": "code",
   "execution_count": 110,
   "id": "dacf98f8",
   "metadata": {},
   "outputs": [],
   "source": [
    "precip = pd.read_json(\"data_sources/additional_sources/weather/2020_precipitation.json\")\n",
    "temp = pd.read_json(\"data_sources/additional_sources/weather/2020_temperature.json\")\n",
    "\n",
    "idToLatLon = pd.concat([precip[[\"id\", \"latitude\", \"longitude\"]], temp[[\"id\", \"latitude\", \"longitude\"]]]) \\\n",
    "    .drop_duplicates() \\\n",
    "    .sort_values([\"latitude\", \"longitude\"]) \\\n",
    "    .reset_index(drop = True)"
   ]
  },
  {
   "cell_type": "code",
   "execution_count": 111,
   "id": "98381a77",
   "metadata": {},
   "outputs": [
    {
     "data": {
      "text/html": [
       "<div>\n",
       "<style scoped>\n",
       "    .dataframe tbody tr th:only-of-type {\n",
       "        vertical-align: middle;\n",
       "    }\n",
       "\n",
       "    .dataframe tbody tr th {\n",
       "        vertical-align: top;\n",
       "    }\n",
       "\n",
       "    .dataframe thead th {\n",
       "        text-align: right;\n",
       "    }\n",
       "</style>\n",
       "<table border=\"1\" class=\"dataframe\">\n",
       "  <thead>\n",
       "    <tr style=\"text-align: right;\">\n",
       "      <th></th>\n",
       "      <th>id</th>\n",
       "      <th>latitude</th>\n",
       "      <th>longitude</th>\n",
       "    </tr>\n",
       "  </thead>\n",
       "  <tbody>\n",
       "    <tr>\n",
       "      <th>0</th>\n",
       "      <td>AYW00090001</td>\n",
       "      <td>-90.000</td>\n",
       "      <td>0.000</td>\n",
       "    </tr>\n",
       "    <tr>\n",
       "      <th>1</th>\n",
       "      <td>AYM00089606</td>\n",
       "      <td>-78.450</td>\n",
       "      <td>106.867</td>\n",
       "    </tr>\n",
       "    <tr>\n",
       "      <th>2</th>\n",
       "      <td>AYM00089034</td>\n",
       "      <td>-77.867</td>\n",
       "      <td>-34.617</td>\n",
       "    </tr>\n",
       "    <tr>\n",
       "      <th>3</th>\n",
       "      <td>AYM00089022</td>\n",
       "      <td>-75.450</td>\n",
       "      <td>-26.217</td>\n",
       "    </tr>\n",
       "    <tr>\n",
       "      <th>4</th>\n",
       "      <td>AYM00089662</td>\n",
       "      <td>-74.700</td>\n",
       "      <td>164.100</td>\n",
       "    </tr>\n",
       "  </tbody>\n",
       "</table>\n",
       "</div>"
      ],
      "text/plain": [
       "            id  latitude  longitude\n",
       "0  AYW00090001   -90.000      0.000\n",
       "1  AYM00089606   -78.450    106.867\n",
       "2  AYM00089034   -77.867    -34.617\n",
       "3  AYM00089022   -75.450    -26.217\n",
       "4  AYM00089662   -74.700    164.100"
      ]
     },
     "execution_count": 111,
     "metadata": {},
     "output_type": "execute_result"
    }
   ],
   "source": [
    "idToLatLon.head()"
   ]
  },
  {
   "cell_type": "code",
   "execution_count": 116,
   "id": "faac272f",
   "metadata": {},
   "outputs": [],
   "source": [
    "# using fcc area api\n",
    "def latLonRequest(lat, lon): \n",
    "    result = r.request(\n",
    "        'get', \n",
    "        'https://geo.fcc.gov/api/census/block/find', \n",
    "        params={'latitude':lat, 'longitude': lon, 'censusYear': 2020, 'format': 'json'})\n",
    "    return json.loads(result.text)\n",
    "\n",
    "def latLonToCounty(row, lat_column=\"latitude\", lon_column=\"longitude\"): \n",
    "    block_response = latLonRequest(row[lat_column], row[lon_column])\n",
    "    block_response = block_response if block_response is not None else {}\n",
    "    row[\"county\"] = block_response.get(\"County\", {}).get(\"name\")\n",
    "    row[\"county_fips\"] = block_response.get(\"County\", {}).get(\"FIPS\")\n",
    "    row[\"state_id\"] = block_response.get(\"State\", {}).get(\"code\")\n",
    "    row[\"state_name\"] = block_response.get(\"State\", {}).get(\"name\")\n",
    "    row[\"state_fips\"] = block_response.get(\"State\", {}).get(\"FIPS\")\n",
    "    row[\"api_request_status\"] = block_response.get(\"status\")\n",
    "    return row"
   ]
  },
  {
   "cell_type": "code",
   "execution_count": 117,
   "id": "1ba6eefe",
   "metadata": {},
   "outputs": [
    {
     "data": {
      "text/plain": [
       "{'Block': {'FIPS': '330079501002038',\n",
       "  'bbox': [-71.303427, 45.087563, -71.287331, 45.09677]},\n",
       " 'County': {'FIPS': '33007', 'name': 'Coos'},\n",
       " 'State': {'FIPS': '33', 'code': 'NH', 'name': 'New Hampshire'},\n",
       " 'status': 'OK',\n",
       " 'executionTime': '0'}"
      ]
     },
     "execution_count": 117,
     "metadata": {},
     "output_type": "execute_result"
    }
   ],
   "source": [
    "latLonRequest(45.0900, -71.2906)"
   ]
  },
  {
   "cell_type": "code",
   "execution_count": 118,
   "id": "544193aa",
   "metadata": {},
   "outputs": [],
   "source": [
    "# calls need delay since api docs specify need to space requests\n",
    "def latLonToCountyRequestWithDelay(df, lat_column, lon_column, delay_sec=0.5):\n",
    "    for (index, data) in tqdm(df.iterrows()):\n",
    "        time.sleep(delay_sec)\n",
    "        yield latLonToCounty(data, lat_column, lon_column)"
   ]
  },
  {
   "cell_type": "code",
   "execution_count": 121,
   "id": "14dd58f2",
   "metadata": {},
   "outputs": [
    {
     "name": "stderr",
     "output_type": "stream",
     "text": [
      "\r",
      "0it [00:00, ?it/s]"
     ]
    },
    {
     "name": "stdout",
     "output_type": "stream",
     "text": [
      "part 7\n"
     ]
    },
    {
     "name": "stderr",
     "output_type": "stream",
     "text": [
      "1000it [14:52,  1.12it/s]\n",
      "0it [00:00, ?it/s]"
     ]
    },
    {
     "name": "stdout",
     "output_type": "stream",
     "text": [
      "part 8\n"
     ]
    },
    {
     "name": "stderr",
     "output_type": "stream",
     "text": [
      "1000it [15:06,  1.10it/s]\n",
      "0it [00:00, ?it/s]"
     ]
    },
    {
     "name": "stdout",
     "output_type": "stream",
     "text": [
      "part 9\n"
     ]
    },
    {
     "name": "stderr",
     "output_type": "stream",
     "text": [
      "1000it [15:05,  1.10it/s]\n",
      "0it [00:00, ?it/s]"
     ]
    },
    {
     "name": "stdout",
     "output_type": "stream",
     "text": [
      "part 10\n"
     ]
    },
    {
     "name": "stderr",
     "output_type": "stream",
     "text": [
      "1000it [15:08,  1.10it/s]\n",
      "0it [00:00, ?it/s]"
     ]
    },
    {
     "name": "stdout",
     "output_type": "stream",
     "text": [
      "part 11\n"
     ]
    },
    {
     "name": "stderr",
     "output_type": "stream",
     "text": [
      "1000it [15:05,  1.10it/s]\n",
      "0it [00:00, ?it/s]"
     ]
    },
    {
     "name": "stdout",
     "output_type": "stream",
     "text": [
      "part 12\n"
     ]
    },
    {
     "name": "stderr",
     "output_type": "stream",
     "text": [
      "1000it [15:16,  1.09it/s]\n",
      "0it [00:00, ?it/s]"
     ]
    },
    {
     "name": "stdout",
     "output_type": "stream",
     "text": [
      "part 13\n"
     ]
    },
    {
     "name": "stderr",
     "output_type": "stream",
     "text": [
      "695it [10:29,  1.10it/s]\n"
     ]
    }
   ],
   "source": [
    "for i in range(7, (idToLatLon.shape[0] // 1000) + 1): \n",
    "    print(\"part {}\".format(i))\n",
    "    latLonCounties = list(latLonToCountyRequestWithDelay(idToLatLon[i*1000:(i+1)*1000], \"latitude\", \"longitude\", 0.5))\n",
    "    pd.DataFrame(latLonCounties) \\\n",
    "        .to_csv(\"data_sources/additional_sources/weather/2020_weather_station_to_county_{part}.csv\".format(part=i), \n",
    "                index=False)"
   ]
  },
  {
   "cell_type": "code",
   "execution_count": 99,
   "id": "25b96181",
   "metadata": {},
   "outputs": [
    {
     "data": {
      "text/plain": [
       "13695"
      ]
     },
     "execution_count": 99,
     "metadata": {},
     "output_type": "execute_result"
    }
   ],
   "source": [
    "idToLatLon.shape[0]"
   ]
  },
  {
   "cell_type": "code",
   "execution_count": 122,
   "id": "52f8f3d6",
   "metadata": {},
   "outputs": [],
   "source": [
    "df_concated = pd.concat([\n",
    "    pd.read_csv(\"data_sources/additional_sources/weather/2020_weather_station_to_county_{part}.csv\".format(part=i)) \n",
    "    for i \n",
    "    in range(14)])"
   ]
  },
  {
   "cell_type": "code",
   "execution_count": 138,
   "id": "f4ab7d7c",
   "metadata": {},
   "outputs": [],
   "source": [
    "# write out full dataset\n",
    "df_with_county = df_concated[~df_concated[\"county\"].isna()]\n",
    "\n",
    "# merge precip, temp, and county dfs\n",
    "df_merged = precip.drop(columns=[\"latitude\", \"longitude\", \"state\"]) \\\n",
    "    .merge(\n",
    "        temp.drop(columns=[\"latitude\", \"longitude\", \"name\", \"state\"]),\n",
    "        how=\"inner\",\n",
    "        on=\"id\"\n",
    "    ) \\\n",
    "    .merge(\n",
    "        df_with_county,\n",
    "        how=\"inner\",\n",
    "        on=\"id\"\n",
    "    )\n",
    "\n",
    "df_merged.to_csv(\"data_sources/additional_sources/2020_weather_station_to_county_complete.csv\", index=False)"
   ]
  },
  {
   "cell_type": "code",
   "execution_count": 140,
   "id": "d93db2e1",
   "metadata": {},
   "outputs": [
    {
     "data": {
      "text/html": [
       "<div>\n",
       "<style scoped>\n",
       "    .dataframe tbody tr th:only-of-type {\n",
       "        vertical-align: middle;\n",
       "    }\n",
       "\n",
       "    .dataframe tbody tr th {\n",
       "        vertical-align: top;\n",
       "    }\n",
       "\n",
       "    .dataframe thead th {\n",
       "        text-align: right;\n",
       "    }\n",
       "</style>\n",
       "<table border=\"1\" class=\"dataframe\">\n",
       "  <thead>\n",
       "    <tr style=\"text-align: right;\">\n",
       "      <th></th>\n",
       "      <th>id</th>\n",
       "      <th>name</th>\n",
       "      <th>total_precip_mm</th>\n",
       "      <th>num_precip_days</th>\n",
       "      <th>num_precip_days_greater_1mm</th>\n",
       "      <th>min_high</th>\n",
       "      <th>quantiles_by_5</th>\n",
       "      <th>max_high</th>\n",
       "      <th>latitude</th>\n",
       "      <th>longitude</th>\n",
       "      <th>county</th>\n",
       "      <th>county_fips</th>\n",
       "      <th>state_id</th>\n",
       "      <th>state_name</th>\n",
       "      <th>state_fips</th>\n",
       "      <th>api_request_status</th>\n",
       "    </tr>\n",
       "  </thead>\n",
       "  <tbody>\n",
       "    <tr>\n",
       "      <th>0</th>\n",
       "      <td>USC00272999</td>\n",
       "      <td>FIRST CONNECTICUT LAKE</td>\n",
       "      <td>3976.7</td>\n",
       "      <td>288</td>\n",
       "      <td>282</td>\n",
       "      <td>-18.3</td>\n",
       "      <td>[-18.3, -6.1, -3.3, -1.7, 0.0, 1.7, 2.8, 3.9, ...</td>\n",
       "      <td>32.8</td>\n",
       "      <td>45.0900</td>\n",
       "      <td>-71.2906</td>\n",
       "      <td>Coos</td>\n",
       "      <td>33007.0</td>\n",
       "      <td>NH</td>\n",
       "      <td>New Hampshire</td>\n",
       "      <td>33.0</td>\n",
       "      <td>OK</td>\n",
       "    </tr>\n",
       "    <tr>\n",
       "      <th>1</th>\n",
       "      <td>USW00003757</td>\n",
       "      <td>ST INIGOES WEBSTER NOLF</td>\n",
       "      <td>7932.0</td>\n",
       "      <td>363</td>\n",
       "      <td>363</td>\n",
       "      <td>3.3</td>\n",
       "      <td>[3.3, 7.8, 10.6, 12.2, 13.3, 15.0, 16.7, 18.3,...</td>\n",
       "      <td>37.8</td>\n",
       "      <td>38.1417</td>\n",
       "      <td>-76.4292</td>\n",
       "      <td>St. Mary's</td>\n",
       "      <td>24037.0</td>\n",
       "      <td>MD</td>\n",
       "      <td>Maryland</td>\n",
       "      <td>24.0</td>\n",
       "      <td>OK</td>\n",
       "    </tr>\n",
       "    <tr>\n",
       "      <th>2</th>\n",
       "      <td>USC00164700</td>\n",
       "      <td>JENNINGS</td>\n",
       "      <td>8296.9</td>\n",
       "      <td>336</td>\n",
       "      <td>336</td>\n",
       "      <td>6.7</td>\n",
       "      <td>[6.7, 11.7, 14.4, 17.8, 18.9, 20.6, 21.7, 22.8...</td>\n",
       "      <td>36.1</td>\n",
       "      <td>30.2003</td>\n",
       "      <td>-92.6642</td>\n",
       "      <td>Jefferson Davis</td>\n",
       "      <td>22053.0</td>\n",
       "      <td>LA</td>\n",
       "      <td>Louisiana</td>\n",
       "      <td>22.0</td>\n",
       "      <td>OK</td>\n",
       "    </tr>\n",
       "    <tr>\n",
       "      <th>3</th>\n",
       "      <td>USC00068138</td>\n",
       "      <td>STORRS</td>\n",
       "      <td>5641.6</td>\n",
       "      <td>347</td>\n",
       "      <td>343</td>\n",
       "      <td>-5.0</td>\n",
       "      <td>[-5.0, 0.0, 2.2, 4.4, 5.6, 7.2, 8.3, 10.0, 12....</td>\n",
       "      <td>32.2</td>\n",
       "      <td>41.7950</td>\n",
       "      <td>-72.2286</td>\n",
       "      <td>Tolland</td>\n",
       "      <td>9013.0</td>\n",
       "      <td>CT</td>\n",
       "      <td>Connecticut</td>\n",
       "      <td>9.0</td>\n",
       "      <td>OK</td>\n",
       "    </tr>\n",
       "    <tr>\n",
       "      <th>4</th>\n",
       "      <td>USC00190998</td>\n",
       "      <td>BUFFUMVILLE LAKE</td>\n",
       "      <td>5906.3</td>\n",
       "      <td>349</td>\n",
       "      <td>344</td>\n",
       "      <td>-6.1</td>\n",
       "      <td>[-6.1, 0.6, 2.8, 4.4, 5.6, 7.8, 8.9, 10.0, 12....</td>\n",
       "      <td>35.0</td>\n",
       "      <td>42.1164</td>\n",
       "      <td>-71.9075</td>\n",
       "      <td>Worcester</td>\n",
       "      <td>25027.0</td>\n",
       "      <td>MA</td>\n",
       "      <td>Massachusetts</td>\n",
       "      <td>25.0</td>\n",
       "      <td>OK</td>\n",
       "    </tr>\n",
       "  </tbody>\n",
       "</table>\n",
       "</div>"
      ],
      "text/plain": [
       "            id                            name  total_precip_mm  \\\n",
       "0  USC00272999  FIRST CONNECTICUT LAKE                   3976.7   \n",
       "1  USW00003757  ST INIGOES WEBSTER NOLF                  7932.0   \n",
       "2  USC00164700  JENNINGS                                 8296.9   \n",
       "3  USC00068138  STORRS                                   5641.6   \n",
       "4  USC00190998  BUFFUMVILLE LAKE                         5906.3   \n",
       "\n",
       "   num_precip_days  num_precip_days_greater_1mm  min_high  \\\n",
       "0              288                          282     -18.3   \n",
       "1              363                          363       3.3   \n",
       "2              336                          336       6.7   \n",
       "3              347                          343      -5.0   \n",
       "4              349                          344      -6.1   \n",
       "\n",
       "                                      quantiles_by_5  max_high  latitude  \\\n",
       "0  [-18.3, -6.1, -3.3, -1.7, 0.0, 1.7, 2.8, 3.9, ...      32.8   45.0900   \n",
       "1  [3.3, 7.8, 10.6, 12.2, 13.3, 15.0, 16.7, 18.3,...      37.8   38.1417   \n",
       "2  [6.7, 11.7, 14.4, 17.8, 18.9, 20.6, 21.7, 22.8...      36.1   30.2003   \n",
       "3  [-5.0, 0.0, 2.2, 4.4, 5.6, 7.2, 8.3, 10.0, 12....      32.2   41.7950   \n",
       "4  [-6.1, 0.6, 2.8, 4.4, 5.6, 7.8, 8.9, 10.0, 12....      35.0   42.1164   \n",
       "\n",
       "   longitude           county  county_fips state_id     state_name  \\\n",
       "0   -71.2906             Coos      33007.0       NH  New Hampshire   \n",
       "1   -76.4292       St. Mary's      24037.0       MD       Maryland   \n",
       "2   -92.6642  Jefferson Davis      22053.0       LA      Louisiana   \n",
       "3   -72.2286          Tolland       9013.0       CT    Connecticut   \n",
       "4   -71.9075        Worcester      25027.0       MA  Massachusetts   \n",
       "\n",
       "   state_fips api_request_status  \n",
       "0        33.0                 OK  \n",
       "1        24.0                 OK  \n",
       "2        22.0                 OK  \n",
       "3         9.0                 OK  \n",
       "4        25.0                 OK  "
      ]
     },
     "execution_count": 140,
     "metadata": {},
     "output_type": "execute_result"
    }
   ],
   "source": [
    "df_merged.head()"
   ]
  },
  {
   "cell_type": "code",
   "execution_count": 134,
   "id": "89a1f870",
   "metadata": {},
   "outputs": [
    {
     "data": {
      "text/plain": [
       "array(['OK'], dtype=object)"
      ]
     },
     "execution_count": 134,
     "metadata": {},
     "output_type": "execute_result"
    }
   ],
   "source": [
    "df_with_county.api_request_status.unique() # all requests returned 200 response (aka \"ok\")"
   ]
  },
  {
   "cell_type": "code",
   "execution_count": 156,
   "id": "ca71f75e",
   "metadata": {},
   "outputs": [
    {
     "data": {
      "text/html": [
       "<div>\n",
       "<style scoped>\n",
       "    .dataframe tbody tr th:only-of-type {\n",
       "        vertical-align: middle;\n",
       "    }\n",
       "\n",
       "    .dataframe tbody tr th {\n",
       "        vertical-align: top;\n",
       "    }\n",
       "\n",
       "    .dataframe thead th {\n",
       "        text-align: right;\n",
       "    }\n",
       "</style>\n",
       "<table border=\"1\" class=\"dataframe\">\n",
       "  <thead>\n",
       "    <tr style=\"text-align: right;\">\n",
       "      <th></th>\n",
       "      <th>county</th>\n",
       "      <th>county_fips</th>\n",
       "      <th>state_id</th>\n",
       "      <th>state_name</th>\n",
       "      <th>state_fips</th>\n",
       "      <th>total_precip_mm</th>\n",
       "      <th>num_precip_days</th>\n",
       "      <th>num_precip_days_greater_1mm</th>\n",
       "      <th>0.05_percentile_high</th>\n",
       "      <th>0.25_percentile_high</th>\n",
       "      <th>0.50_percentile_high</th>\n",
       "      <th>0.75_percentile_high</th>\n",
       "      <th>0.95_percentile_high</th>\n",
       "      <th>min_high</th>\n",
       "      <th>max_high</th>\n",
       "    </tr>\n",
       "  </thead>\n",
       "  <tbody>\n",
       "    <tr>\n",
       "      <th>0</th>\n",
       "      <td>Abbeville</td>\n",
       "      <td>45001.0</td>\n",
       "      <td>SC</td>\n",
       "      <td>South Carolina</td>\n",
       "      <td>45.0</td>\n",
       "      <td>8430.0</td>\n",
       "      <td>366</td>\n",
       "      <td>366</td>\n",
       "      <td>10.00</td>\n",
       "      <td>17.80</td>\n",
       "      <td>23.30</td>\n",
       "      <td>29.40</td>\n",
       "      <td>32.80</td>\n",
       "      <td>1.7</td>\n",
       "      <td>36.7</td>\n",
       "    </tr>\n",
       "    <tr>\n",
       "      <th>1</th>\n",
       "      <td>Accomack</td>\n",
       "      <td>51001.0</td>\n",
       "      <td>VA</td>\n",
       "      <td>Virginia</td>\n",
       "      <td>51.0</td>\n",
       "      <td>7493.0</td>\n",
       "      <td>365</td>\n",
       "      <td>365</td>\n",
       "      <td>7.50</td>\n",
       "      <td>14.75</td>\n",
       "      <td>20.55</td>\n",
       "      <td>26.95</td>\n",
       "      <td>31.40</td>\n",
       "      <td>1.7</td>\n",
       "      <td>37.8</td>\n",
       "    </tr>\n",
       "    <tr>\n",
       "      <th>2</th>\n",
       "      <td>Ada</td>\n",
       "      <td>16001.0</td>\n",
       "      <td>ID</td>\n",
       "      <td>Idaho</td>\n",
       "      <td>16.0</td>\n",
       "      <td>6690.0</td>\n",
       "      <td>360</td>\n",
       "      <td>360</td>\n",
       "      <td>3.30</td>\n",
       "      <td>8.60</td>\n",
       "      <td>17.50</td>\n",
       "      <td>28.05</td>\n",
       "      <td>33.60</td>\n",
       "      <td>-2.1</td>\n",
       "      <td>41.7</td>\n",
       "    </tr>\n",
       "    <tr>\n",
       "      <th>3</th>\n",
       "      <td>Adair</td>\n",
       "      <td>19001.0</td>\n",
       "      <td>IA</td>\n",
       "      <td>Iowa</td>\n",
       "      <td>19.0</td>\n",
       "      <td>5762.0</td>\n",
       "      <td>326</td>\n",
       "      <td>322</td>\n",
       "      <td>-3.30</td>\n",
       "      <td>6.10</td>\n",
       "      <td>16.70</td>\n",
       "      <td>26.70</td>\n",
       "      <td>30.60</td>\n",
       "      <td>-14.4</td>\n",
       "      <td>34.4</td>\n",
       "    </tr>\n",
       "    <tr>\n",
       "      <th>4</th>\n",
       "      <td>Adair</td>\n",
       "      <td>29001.0</td>\n",
       "      <td>MO</td>\n",
       "      <td>Missouri</td>\n",
       "      <td>29.0</td>\n",
       "      <td>3218.0</td>\n",
       "      <td>184</td>\n",
       "      <td>180</td>\n",
       "      <td>-5.55</td>\n",
       "      <td>3.60</td>\n",
       "      <td>9.45</td>\n",
       "      <td>16.65</td>\n",
       "      <td>21.15</td>\n",
       "      <td>-10.6</td>\n",
       "      <td>34.4</td>\n",
       "    </tr>\n",
       "    <tr>\n",
       "      <th>...</th>\n",
       "      <td>...</td>\n",
       "      <td>...</td>\n",
       "      <td>...</td>\n",
       "      <td>...</td>\n",
       "      <td>...</td>\n",
       "      <td>...</td>\n",
       "      <td>...</td>\n",
       "      <td>...</td>\n",
       "      <td>...</td>\n",
       "      <td>...</td>\n",
       "      <td>...</td>\n",
       "      <td>...</td>\n",
       "      <td>...</td>\n",
       "      <td>...</td>\n",
       "      <td>...</td>\n",
       "    </tr>\n",
       "    <tr>\n",
       "      <th>2574</th>\n",
       "      <td>Yuba</td>\n",
       "      <td>6115.0</td>\n",
       "      <td>CA</td>\n",
       "      <td>California</td>\n",
       "      <td>6.0</td>\n",
       "      <td>7368.0</td>\n",
       "      <td>364</td>\n",
       "      <td>363</td>\n",
       "      <td>5.60</td>\n",
       "      <td>13.30</td>\n",
       "      <td>20.60</td>\n",
       "      <td>28.90</td>\n",
       "      <td>31.10</td>\n",
       "      <td>-0.6</td>\n",
       "      <td>43.3</td>\n",
       "    </tr>\n",
       "    <tr>\n",
       "      <th>2575</th>\n",
       "      <td>Yukon-Koyukuk</td>\n",
       "      <td>2290.0</td>\n",
       "      <td>AK</td>\n",
       "      <td>Alaska</td>\n",
       "      <td>2.0</td>\n",
       "      <td>503.0</td>\n",
       "      <td>191</td>\n",
       "      <td>189</td>\n",
       "      <td>-24.40</td>\n",
       "      <td>-12.20</td>\n",
       "      <td>3.30</td>\n",
       "      <td>16.70</td>\n",
       "      <td>21.70</td>\n",
       "      <td>-46.1</td>\n",
       "      <td>37.2</td>\n",
       "    </tr>\n",
       "    <tr>\n",
       "      <th>2576</th>\n",
       "      <td>Yuma</td>\n",
       "      <td>4027.0</td>\n",
       "      <td>AZ</td>\n",
       "      <td>Arizona</td>\n",
       "      <td>4.0</td>\n",
       "      <td>11635.0</td>\n",
       "      <td>366</td>\n",
       "      <td>366</td>\n",
       "      <td>18.90</td>\n",
       "      <td>23.30</td>\n",
       "      <td>32.80</td>\n",
       "      <td>41.10</td>\n",
       "      <td>43.90</td>\n",
       "      <td>12.9</td>\n",
       "      <td>50.0</td>\n",
       "    </tr>\n",
       "    <tr>\n",
       "      <th>2577</th>\n",
       "      <td>Yuma</td>\n",
       "      <td>8125.0</td>\n",
       "      <td>CO</td>\n",
       "      <td>Colorado</td>\n",
       "      <td>8.0</td>\n",
       "      <td>6409.0</td>\n",
       "      <td>313</td>\n",
       "      <td>312</td>\n",
       "      <td>-0.60</td>\n",
       "      <td>10.00</td>\n",
       "      <td>21.10</td>\n",
       "      <td>30.60</td>\n",
       "      <td>35.60</td>\n",
       "      <td>-8.9</td>\n",
       "      <td>40.6</td>\n",
       "    </tr>\n",
       "    <tr>\n",
       "      <th>2578</th>\n",
       "      <td>Ziebach</td>\n",
       "      <td>46137.0</td>\n",
       "      <td>SD</td>\n",
       "      <td>South Dakota</td>\n",
       "      <td>46.0</td>\n",
       "      <td>5455.0</td>\n",
       "      <td>309</td>\n",
       "      <td>306</td>\n",
       "      <td>-5.60</td>\n",
       "      <td>4.40</td>\n",
       "      <td>16.10</td>\n",
       "      <td>26.10</td>\n",
       "      <td>31.10</td>\n",
       "      <td>-18.3</td>\n",
       "      <td>38.9</td>\n",
       "    </tr>\n",
       "  </tbody>\n",
       "</table>\n",
       "<p>2579 rows × 15 columns</p>\n",
       "</div>"
      ],
      "text/plain": [
       "             county  county_fips state_id      state_name  state_fips  \\\n",
       "0         Abbeville      45001.0       SC  South Carolina        45.0   \n",
       "1          Accomack      51001.0       VA        Virginia        51.0   \n",
       "2               Ada      16001.0       ID           Idaho        16.0   \n",
       "3             Adair      19001.0       IA            Iowa        19.0   \n",
       "4             Adair      29001.0       MO        Missouri        29.0   \n",
       "...             ...          ...      ...             ...         ...   \n",
       "2574           Yuba       6115.0       CA      California         6.0   \n",
       "2575  Yukon-Koyukuk       2290.0       AK          Alaska         2.0   \n",
       "2576           Yuma       4027.0       AZ         Arizona         4.0   \n",
       "2577           Yuma       8125.0       CO        Colorado         8.0   \n",
       "2578        Ziebach      46137.0       SD    South Dakota        46.0   \n",
       "\n",
       "      total_precip_mm  num_precip_days  num_precip_days_greater_1mm  \\\n",
       "0              8430.0              366                          366   \n",
       "1              7493.0              365                          365   \n",
       "2              6690.0              360                          360   \n",
       "3              5762.0              326                          322   \n",
       "4              3218.0              184                          180   \n",
       "...               ...              ...                          ...   \n",
       "2574           7368.0              364                          363   \n",
       "2575            503.0              191                          189   \n",
       "2576          11635.0              366                          366   \n",
       "2577           6409.0              313                          312   \n",
       "2578           5455.0              309                          306   \n",
       "\n",
       "      0.05_percentile_high  0.25_percentile_high  0.50_percentile_high  \\\n",
       "0                    10.00                 17.80                 23.30   \n",
       "1                     7.50                 14.75                 20.55   \n",
       "2                     3.30                  8.60                 17.50   \n",
       "3                    -3.30                  6.10                 16.70   \n",
       "4                    -5.55                  3.60                  9.45   \n",
       "...                    ...                   ...                   ...   \n",
       "2574                  5.60                 13.30                 20.60   \n",
       "2575                -24.40                -12.20                  3.30   \n",
       "2576                 18.90                 23.30                 32.80   \n",
       "2577                 -0.60                 10.00                 21.10   \n",
       "2578                 -5.60                  4.40                 16.10   \n",
       "\n",
       "      0.75_percentile_high  0.95_percentile_high  min_high  max_high  \n",
       "0                    29.40                 32.80       1.7      36.7  \n",
       "1                    26.95                 31.40       1.7      37.8  \n",
       "2                    28.05                 33.60      -2.1      41.7  \n",
       "3                    26.70                 30.60     -14.4      34.4  \n",
       "4                    16.65                 21.15     -10.6      34.4  \n",
       "...                    ...                   ...       ...       ...  \n",
       "2574                 28.90                 31.10      -0.6      43.3  \n",
       "2575                 16.70                 21.70     -46.1      37.2  \n",
       "2576                 41.10                 43.90      12.9      50.0  \n",
       "2577                 30.60                 35.60      -8.9      40.6  \n",
       "2578                 26.10                 31.10     -18.3      38.9  \n",
       "\n",
       "[2579 rows x 15 columns]"
      ]
     },
     "execution_count": 156,
     "metadata": {},
     "output_type": "execute_result"
    }
   ],
   "source": [
    "def get_percentile(_20quantiles, percentile):\n",
    "    return float(_20quantiles[int(percentile/0.05)])\n",
    "\n",
    "for pct in [0.05, 0.25, 0.5, 0.75, 0.95]:\n",
    "    df_merged[\"{:.2f}_percentile_high\".format(pct)] = df_merged.quantiles_by_5.apply(lambda x: get_percentile(x, pct))\n",
    "\n",
    "df_merged\n",
    "df_aggrdf_merged.groupby([\"county\", \"county_fips\", \"state_id\", \"state_name\", \"state_fips\"]).agg(\n",
    "    {\"total_precip_mm\": lambda x: int(np.median(x)),\n",
    "     \"num_precip_days\": lambda x: int(np.median(x)),\n",
    "     \"num_precip_days_greater_1mm\": lambda x: int(np.median(x)),\n",
    "     \"0.05_percentile_high\": np.median, \n",
    "     \"0.25_percentile_high\": np.median, \n",
    "     \"0.50_percentile_high\": np.median, \n",
    "     \"0.75_percentile_high\": np.median, \n",
    "     \"0.95_percentile_high\": np.median,\n",
    "     \"min_high\": np.min,\n",
    "     \"max_high\": np.max}\n",
    ").reset_index()"
   ]
  },
  {
   "cell_type": "code",
   "execution_count": 154,
   "id": "ffc918a9",
   "metadata": {},
   "outputs": [
    {
     "data": {
      "text/plain": [
       "dtype('O')"
      ]
     },
     "execution_count": 154,
     "metadata": {},
     "output_type": "execute_result"
    }
   ],
   "source": [
    "df_merged[\"0.05_percentile_high\"].dtype"
   ]
  },
  {
   "cell_type": "code",
   "execution_count": null,
   "id": "a28a6cf2",
   "metadata": {},
   "outputs": [],
   "source": []
  }
 ],
 "metadata": {
  "kernelspec": {
   "display_name": "Python 3",
   "language": "python",
   "name": "python3"
  },
  "language_info": {
   "codemirror_mode": {
    "name": "ipython",
    "version": 3
   },
   "file_extension": ".py",
   "mimetype": "text/x-python",
   "name": "python",
   "nbconvert_exporter": "python",
   "pygments_lexer": "ipython3",
   "version": "3.9.4"
  }
 },
 "nbformat": 4,
 "nbformat_minor": 5
}
