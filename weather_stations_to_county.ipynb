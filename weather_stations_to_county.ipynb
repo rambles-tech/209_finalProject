{
 "cells": [
  {
   "cell_type": "code",
   "execution_count": 92,
   "id": "def77e85",
   "metadata": {},
   "outputs": [],
   "source": [
    "import pandas as pd\n",
    "import numpy as np\n",
    "import json\n",
    "import requests as r\n",
    "import time\n",
    "from tqdm import tqdm"
   ]
  },
  {
   "cell_type": "markdown",
   "id": "0fb40723",
   "metadata": {},
   "source": [
    "Temperature Query\n",
    "```\n",
    "SELECT\n",
    "    wx.id,\n",
    "    name,\n",
    "    state,\n",
    "    latitude,\n",
    "    longitude,\n",
    "    min(value/10) as min_high,\n",
    "    APPROX_QUANTILES(value/10, 20) as quantiles_by_5,\n",
    "    max(value/10) as max_high\n",
    "FROM\n",
    "    bigquery-public-data.ghcn_d.ghcnd_2020 AS wx\n",
    "JOIN\n",
    "    bigquery-public-data.ghcn_d.ghcnd_stations AS stn\n",
    "ON\n",
    "    wx.id = stn.id\n",
    "WHERE\n",
    "    wx.element = 'TMAX'\n",
    "    AND wx.qflag IS NULL\n",
    "    AND stn.state IS NOT NULL\n",
    "GROUP BY wx.id, name, state, latitude, longitude\n",
    "```"
   ]
  },
  {
   "cell_type": "markdown",
   "id": "ab4dbf1f",
   "metadata": {},
   "source": [
    "Precipitation Query\n",
    "```\n",
    "SELECT\n",
    "    wx.id,\n",
    "    name,\n",
    "    state,\n",
    "    latitude,\n",
    "    longitude,\n",
    "sum(value/10) AS total_precip_mm,\n",
    "count(distinct case when value > 0 then `date` end) as num_precip_days,\n",
    "count(distinct case when value/10 > 1 then `date` end) as num_precip_days_greater_1mm,\n",
    "FROM\n",
    "    bigquery-public-data.ghcn_d.ghcnd_2020 AS wx\n",
    "JOIN\n",
    "    bigquery-public-data.ghcn_d.ghcnd_stations AS stn\n",
    "ON\n",
    "    wx.id = stn.id\n",
    "WHERE\n",
    "    wx.element = 'TMAX'\n",
    "    AND wx.qflag IS NULL\n",
    "    AND stn.state IS NOT NULL\n",
    "GROUP BY wx.id, name, state, latitude, longitude\n",
    "```"
   ]
  },
  {
   "cell_type": "code",
   "execution_count": 110,
   "id": "a28bebd1",
   "metadata": {},
   "outputs": [],
   "source": [
    "precip = pd.read_json(\"data_sources/additional_sources/weather/2020_precipitation.json\")\n",
    "temp = pd.read_json(\"data_sources/additional_sources/weather/2020_temperature.json\")\n",
    "\n",
    "idToLatLon = pd.concat([precip[[\"id\", \"latitude\", \"longitude\"]], temp[[\"id\", \"latitude\", \"longitude\"]]]) \\\n",
    "    .drop_duplicates() \\\n",
    "    .sort_values([\"latitude\", \"longitude\"]) \\\n",
    "    .reset_index(drop = True)"
   ]
  },
  {
   "cell_type": "code",
   "execution_count": 111,
   "id": "b74c6eef",
   "metadata": {},
   "outputs": [
    {
     "data": {
      "text/html": [
       "<div>\n",
       "<style scoped>\n",
       "    .dataframe tbody tr th:only-of-type {\n",
       "        vertical-align: middle;\n",
       "    }\n",
       "\n",
       "    .dataframe tbody tr th {\n",
       "        vertical-align: top;\n",
       "    }\n",
       "\n",
       "    .dataframe thead th {\n",
       "        text-align: right;\n",
       "    }\n",
       "</style>\n",
       "<table border=\"1\" class=\"dataframe\">\n",
       "  <thead>\n",
       "    <tr style=\"text-align: right;\">\n",
       "      <th></th>\n",
       "      <th>id</th>\n",
       "      <th>latitude</th>\n",
       "      <th>longitude</th>\n",
       "    </tr>\n",
       "  </thead>\n",
       "  <tbody>\n",
       "    <tr>\n",
       "      <th>0</th>\n",
       "      <td>AYW00090001</td>\n",
       "      <td>-90.000</td>\n",
       "      <td>0.000</td>\n",
       "    </tr>\n",
       "    <tr>\n",
       "      <th>1</th>\n",
       "      <td>AYM00089606</td>\n",
       "      <td>-78.450</td>\n",
       "      <td>106.867</td>\n",
       "    </tr>\n",
       "    <tr>\n",
       "      <th>2</th>\n",
       "      <td>AYM00089034</td>\n",
       "      <td>-77.867</td>\n",
       "      <td>-34.617</td>\n",
       "    </tr>\n",
       "    <tr>\n",
       "      <th>3</th>\n",
       "      <td>AYM00089022</td>\n",
       "      <td>-75.450</td>\n",
       "      <td>-26.217</td>\n",
       "    </tr>\n",
       "    <tr>\n",
       "      <th>4</th>\n",
       "      <td>AYM00089662</td>\n",
       "      <td>-74.700</td>\n",
       "      <td>164.100</td>\n",
       "    </tr>\n",
       "  </tbody>\n",
       "</table>\n",
       "</div>"
      ],
      "text/plain": [
       "            id  latitude  longitude\n",
       "0  AYW00090001   -90.000      0.000\n",
       "1  AYM00089606   -78.450    106.867\n",
       "2  AYM00089034   -77.867    -34.617\n",
       "3  AYM00089022   -75.450    -26.217\n",
       "4  AYM00089662   -74.700    164.100"
      ]
     },
     "execution_count": 111,
     "metadata": {},
     "output_type": "execute_result"
    }
   ],
   "source": [
    "idToLatLon.head()"
   ]
  },
  {
   "cell_type": "code",
   "execution_count": 116,
   "id": "c92d226b",
   "metadata": {},
   "outputs": [],
   "source": [
    "# using fcc area api\n",
    "def latLonRequest(lat, lon): \n",
    "    result = r.request(\n",
    "        'get', \n",
    "        'https://geo.fcc.gov/api/census/block/find', \n",
    "        params={'latitude':lat, 'longitude': lon, 'censusYear': 2020, 'format': 'json'})\n",
    "    return json.loads(result.text)\n",
    "\n",
    "def latLonToCounty(row, lat_column=\"latitude\", lon_column=\"longitude\"): \n",
    "    block_response = latLonRequest(row[lat_column], row[lon_column])\n",
    "    block_response = block_response if block_response is not None else {}\n",
    "    row[\"county\"] = block_response.get(\"County\", {}).get(\"name\")\n",
    "    row[\"county_fips\"] = block_response.get(\"County\", {}).get(\"FIPS\")\n",
    "    row[\"state_id\"] = block_response.get(\"State\", {}).get(\"code\")\n",
    "    row[\"state_name\"] = block_response.get(\"State\", {}).get(\"name\")\n",
    "    row[\"state_fips\"] = block_response.get(\"State\", {}).get(\"FIPS\")\n",
    "    row[\"api_request_status\"] = block_response.get(\"status\")\n",
    "    return row"
   ]
  },
  {
   "cell_type": "code",
   "execution_count": 117,
   "id": "2bc26af1",
   "metadata": {},
   "outputs": [
    {
     "data": {
      "text/plain": [
       "{'Block': {'FIPS': '330079501002038',\n",
       "  'bbox': [-71.303427, 45.087563, -71.287331, 45.09677]},\n",
       " 'County': {'FIPS': '33007', 'name': 'Coos'},\n",
       " 'State': {'FIPS': '33', 'code': 'NH', 'name': 'New Hampshire'},\n",
       " 'status': 'OK',\n",
       " 'executionTime': '0'}"
      ]
     },
     "execution_count": 117,
     "metadata": {},
     "output_type": "execute_result"
    }
   ],
   "source": [
    "latLonRequest(45.0900, -71.2906)"
   ]
  },
  {
   "cell_type": "code",
   "execution_count": 118,
   "id": "300809f1",
   "metadata": {},
   "outputs": [],
   "source": [
    "# calls need delay since api docs specify need to space requests\n",
    "def latLonToCountyRequestWithDelay(df, lat_column, lon_column, delay_sec=0.5):\n",
    "    for (index, data) in tqdm(df.iterrows()):\n",
    "        time.sleep(delay_sec)\n",
    "        yield latLonToCounty(data, lat_column, lon_column)"
   ]
  },
  {
   "cell_type": "code",
   "execution_count": 121,
   "id": "5039a554",
   "metadata": {},
   "outputs": [
    {
     "name": "stderr",
     "output_type": "stream",
     "text": [
      "\r",
      "0it [00:00, ?it/s]"
     ]
    },
    {
     "name": "stdout",
     "output_type": "stream",
     "text": [
      "part 7\n"
     ]
    },
    {
     "name": "stderr",
     "output_type": "stream",
     "text": [
      "1000it [14:52,  1.12it/s]\n",
      "0it [00:00, ?it/s]"
     ]
    },
    {
     "name": "stdout",
     "output_type": "stream",
     "text": [
      "part 8\n"
     ]
    },
    {
     "name": "stderr",
     "output_type": "stream",
     "text": [
      "1000it [15:06,  1.10it/s]\n",
      "0it [00:00, ?it/s]"
     ]
    },
    {
     "name": "stdout",
     "output_type": "stream",
     "text": [
      "part 9\n"
     ]
    },
    {
     "name": "stderr",
     "output_type": "stream",
     "text": [
      "1000it [15:05,  1.10it/s]\n",
      "0it [00:00, ?it/s]"
     ]
    },
    {
     "name": "stdout",
     "output_type": "stream",
     "text": [
      "part 10\n"
     ]
    },
    {
     "name": "stderr",
     "output_type": "stream",
     "text": [
      "1000it [15:08,  1.10it/s]\n",
      "0it [00:00, ?it/s]"
     ]
    },
    {
     "name": "stdout",
     "output_type": "stream",
     "text": [
      "part 11\n"
     ]
    },
    {
     "name": "stderr",
     "output_type": "stream",
     "text": [
      "1000it [15:05,  1.10it/s]\n",
      "0it [00:00, ?it/s]"
     ]
    },
    {
     "name": "stdout",
     "output_type": "stream",
     "text": [
      "part 12\n"
     ]
    },
    {
     "name": "stderr",
     "output_type": "stream",
     "text": [
      "1000it [15:16,  1.09it/s]\n",
      "0it [00:00, ?it/s]"
     ]
    },
    {
     "name": "stdout",
     "output_type": "stream",
     "text": [
      "part 13\n"
     ]
    },
    {
     "name": "stderr",
     "output_type": "stream",
     "text": [
      "695it [10:29,  1.10it/s]\n"
     ]
    }
   ],
   "source": [
    "for i in range(7, (idToLatLon.shape[0] // 1000) + 1): \n",
    "    print(\"part {}\".format(i))\n",
    "    latLonCounties = list(latLonToCountyRequestWithDelay(idToLatLon[i*1000:(i+1)*1000], \"latitude\", \"longitude\", 0.5))\n",
    "    pd.DataFrame(latLonCounties) \\\n",
    "        .to_csv(\"data_sources/additional_sources/weather/2020_weather_station_to_county_{part}.csv\".format(part=i), \n",
    "                index=False)"
   ]
  },
  {
   "cell_type": "code",
   "execution_count": 99,
   "id": "ad2abb77",
   "metadata": {},
   "outputs": [
    {
     "data": {
      "text/plain": [
       "13695"
      ]
     },
     "execution_count": 99,
     "metadata": {},
     "output_type": "execute_result"
    }
   ],
   "source": [
    "idToLatLon.shape[0]"
   ]
  },
  {
   "cell_type": "code",
   "execution_count": 122,
   "id": "4efeed41",
   "metadata": {},
   "outputs": [],
   "source": [
    "df_concated = pd.concat([\n",
    "    pd.read_csv(\"data_sources/additional_sources/weather/2020_weather_station_to_county_{part}.csv\".format(part=i)) \n",
    "    for i \n",
    "    in range(14)])"
   ]
  },
  {
   "cell_type": "code",
   "execution_count": 138,
   "id": "4e6460fe",
   "metadata": {},
   "outputs": [],
   "source": [
    "# write out full dataset\n",
    "df_with_county = df_concated[~df_concated[\"county\"].isna()]\n",
    "\n",
    "# merge precip, temp, and county dfs\n",
    "df_merged = precip.drop(columns=[\"latitude\", \"longitude\", \"state\"]) \\\n",
    "    .merge(\n",
    "        temp.drop(columns=[\"latitude\", \"longitude\", \"name\", \"state\"]),\n",
    "        how=\"inner\",\n",
    "        on=\"id\"\n",
    "    ) \\\n",
    "    .merge(\n",
    "        df_with_county,\n",
    "        how=\"inner\",\n",
    "        on=\"id\"\n",
    "    )\n",
    "\n",
    "df_merged.to_csv(\"data_sources/additional_sources/2020_weather_station_to_county_complete.csv\", index=False)"
   ]
  },
  {
   "cell_type": "code",
   "execution_count": 140,
   "id": "d09e5e6e",
   "metadata": {},
   "outputs": [
    {
     "data": {
      "text/html": [
       "<div>\n",
       "<style scoped>\n",
       "    .dataframe tbody tr th:only-of-type {\n",
       "        vertical-align: middle;\n",
       "    }\n",
       "\n",
       "    .dataframe tbody tr th {\n",
       "        vertical-align: top;\n",
       "    }\n",
       "\n",
       "    .dataframe thead th {\n",
       "        text-align: right;\n",
       "    }\n",
       "</style>\n",
       "<table border=\"1\" class=\"dataframe\">\n",
       "  <thead>\n",
       "    <tr style=\"text-align: right;\">\n",
       "      <th></th>\n",
       "      <th>id</th>\n",
       "      <th>name</th>\n",
       "      <th>total_precip_mm</th>\n",
       "      <th>num_precip_days</th>\n",
       "      <th>num_precip_days_greater_1mm</th>\n",
       "      <th>min_high</th>\n",
       "      <th>quantiles_by_5</th>\n",
       "      <th>max_high</th>\n",
       "      <th>latitude</th>\n",
       "      <th>longitude</th>\n",
       "      <th>county</th>\n",
       "      <th>county_fips</th>\n",
       "      <th>state_id</th>\n",
       "      <th>state_name</th>\n",
       "      <th>state_fips</th>\n",
       "      <th>api_request_status</th>\n",
       "    </tr>\n",
       "  </thead>\n",
       "  <tbody>\n",
       "    <tr>\n",
       "      <th>0</th>\n",
       "      <td>USC00272999</td>\n",
       "      <td>FIRST CONNECTICUT LAKE</td>\n",
       "      <td>3976.7</td>\n",
       "      <td>288</td>\n",
       "      <td>282</td>\n",
       "      <td>-18.3</td>\n",
       "      <td>[-18.3, -6.1, -3.3, -1.7, 0.0, 1.7, 2.8, 3.9, ...</td>\n",
       "      <td>32.8</td>\n",
       "      <td>45.0900</td>\n",
       "      <td>-71.2906</td>\n",
       "      <td>Coos</td>\n",
       "      <td>33007.0</td>\n",
       "      <td>NH</td>\n",
       "      <td>New Hampshire</td>\n",
       "      <td>33.0</td>\n",
       "      <td>OK</td>\n",
       "    </tr>\n",
       "    <tr>\n",
       "      <th>1</th>\n",
       "      <td>USW00003757</td>\n",
       "      <td>ST INIGOES WEBSTER NOLF</td>\n",
       "      <td>7932.0</td>\n",
       "      <td>363</td>\n",
       "      <td>363</td>\n",
       "      <td>3.3</td>\n",
       "      <td>[3.3, 7.8, 10.6, 12.2, 13.3, 15.0, 16.7, 18.3,...</td>\n",
       "      <td>37.8</td>\n",
       "      <td>38.1417</td>\n",
       "      <td>-76.4292</td>\n",
       "      <td>St. Mary's</td>\n",
       "      <td>24037.0</td>\n",
       "      <td>MD</td>\n",
       "      <td>Maryland</td>\n",
       "      <td>24.0</td>\n",
       "      <td>OK</td>\n",
       "    </tr>\n",
       "    <tr>\n",
       "      <th>2</th>\n",
       "      <td>USC00164700</td>\n",
       "      <td>JENNINGS</td>\n",
       "      <td>8296.9</td>\n",
       "      <td>336</td>\n",
       "      <td>336</td>\n",
       "      <td>6.7</td>\n",
       "      <td>[6.7, 11.7, 14.4, 17.8, 18.9, 20.6, 21.7, 22.8...</td>\n",
       "      <td>36.1</td>\n",
       "      <td>30.2003</td>\n",
       "      <td>-92.6642</td>\n",
       "      <td>Jefferson Davis</td>\n",
       "      <td>22053.0</td>\n",
       "      <td>LA</td>\n",
       "      <td>Louisiana</td>\n",
       "      <td>22.0</td>\n",
       "      <td>OK</td>\n",
       "    </tr>\n",
       "    <tr>\n",
       "      <th>3</th>\n",
       "      <td>USC00068138</td>\n",
       "      <td>STORRS</td>\n",
       "      <td>5641.6</td>\n",
       "      <td>347</td>\n",
       "      <td>343</td>\n",
       "      <td>-5.0</td>\n",
       "      <td>[-5.0, 0.0, 2.2, 4.4, 5.6, 7.2, 8.3, 10.0, 12....</td>\n",
       "      <td>32.2</td>\n",
       "      <td>41.7950</td>\n",
       "      <td>-72.2286</td>\n",
       "      <td>Tolland</td>\n",
       "      <td>9013.0</td>\n",
       "      <td>CT</td>\n",
       "      <td>Connecticut</td>\n",
       "      <td>9.0</td>\n",
       "      <td>OK</td>\n",
       "    </tr>\n",
       "    <tr>\n",
       "      <th>4</th>\n",
       "      <td>USC00190998</td>\n",
       "      <td>BUFFUMVILLE LAKE</td>\n",
       "      <td>5906.3</td>\n",
       "      <td>349</td>\n",
       "      <td>344</td>\n",
       "      <td>-6.1</td>\n",
       "      <td>[-6.1, 0.6, 2.8, 4.4, 5.6, 7.8, 8.9, 10.0, 12....</td>\n",
       "      <td>35.0</td>\n",
       "      <td>42.1164</td>\n",
       "      <td>-71.9075</td>\n",
       "      <td>Worcester</td>\n",
       "      <td>25027.0</td>\n",
       "      <td>MA</td>\n",
       "      <td>Massachusetts</td>\n",
       "      <td>25.0</td>\n",
       "      <td>OK</td>\n",
       "    </tr>\n",
       "  </tbody>\n",
       "</table>\n",
       "</div>"
      ],
      "text/plain": [
       "            id                            name  total_precip_mm  \\\n",
       "0  USC00272999  FIRST CONNECTICUT LAKE                   3976.7   \n",
       "1  USW00003757  ST INIGOES WEBSTER NOLF                  7932.0   \n",
       "2  USC00164700  JENNINGS                                 8296.9   \n",
       "3  USC00068138  STORRS                                   5641.6   \n",
       "4  USC00190998  BUFFUMVILLE LAKE                         5906.3   \n",
       "\n",
       "   num_precip_days  num_precip_days_greater_1mm  min_high  \\\n",
       "0              288                          282     -18.3   \n",
       "1              363                          363       3.3   \n",
       "2              336                          336       6.7   \n",
       "3              347                          343      -5.0   \n",
       "4              349                          344      -6.1   \n",
       "\n",
       "                                      quantiles_by_5  max_high  latitude  \\\n",
       "0  [-18.3, -6.1, -3.3, -1.7, 0.0, 1.7, 2.8, 3.9, ...      32.8   45.0900   \n",
       "1  [3.3, 7.8, 10.6, 12.2, 13.3, 15.0, 16.7, 18.3,...      37.8   38.1417   \n",
       "2  [6.7, 11.7, 14.4, 17.8, 18.9, 20.6, 21.7, 22.8...      36.1   30.2003   \n",
       "3  [-5.0, 0.0, 2.2, 4.4, 5.6, 7.2, 8.3, 10.0, 12....      32.2   41.7950   \n",
       "4  [-6.1, 0.6, 2.8, 4.4, 5.6, 7.8, 8.9, 10.0, 12....      35.0   42.1164   \n",
       "\n",
       "   longitude           county  county_fips state_id     state_name  \\\n",
       "0   -71.2906             Coos      33007.0       NH  New Hampshire   \n",
       "1   -76.4292       St. Mary's      24037.0       MD       Maryland   \n",
       "2   -92.6642  Jefferson Davis      22053.0       LA      Louisiana   \n",
       "3   -72.2286          Tolland       9013.0       CT    Connecticut   \n",
       "4   -71.9075        Worcester      25027.0       MA  Massachusetts   \n",
       "\n",
       "   state_fips api_request_status  \n",
       "0        33.0                 OK  \n",
       "1        24.0                 OK  \n",
       "2        22.0                 OK  \n",
       "3         9.0                 OK  \n",
       "4        25.0                 OK  "
      ]
     },
     "execution_count": 140,
     "metadata": {},
     "output_type": "execute_result"
    }
   ],
   "source": [
    "df_merged.head()"
   ]
  },
  {
   "cell_type": "code",
   "execution_count": 134,
   "id": "acc27e7d",
   "metadata": {},
   "outputs": [
    {
     "data": {
      "text/plain": [
       "array(['OK'], dtype=object)"
      ]
     },
     "execution_count": 134,
     "metadata": {},
     "output_type": "execute_result"
    }
   ],
   "source": [
    "df_with_county.api_request_status.unique() # all requests returned 200 response (aka \"ok\")"
   ]
  },
  {
   "cell_type": "code",
   "execution_count": 158,
   "id": "c19daa80",
   "metadata": {},
   "outputs": [],
   "source": [
    "def get_percentile(_20quantiles, percentile):\n",
    "    return float(_20quantiles[int(percentile/0.05)])\n",
    "\n",
    "for pct in [0.05, 0.25, 0.5, 0.75, 0.95]:\n",
    "    df_merged[\"{:.2f}_percentile_high\".format(pct)] = df_merged.quantiles_by_5.apply(lambda x: get_percentile(x, pct))\n",
    "\n",
    "df_merged\n",
    "df_aggregated_by_county = df_merged.groupby([\"county\", \"county_fips\", \"state_id\", \"state_name\", \"state_fips\"]).agg(\n",
    "    {\"total_precip_mm\": lambda x: int(np.median(x)),\n",
    "     \"num_precip_days\": lambda x: int(np.median(x)),\n",
    "     \"num_precip_days_greater_1mm\": lambda x: int(np.median(x)),\n",
    "     \"0.05_percentile_high\": np.median, \n",
    "     \"0.25_percentile_high\": np.median, \n",
    "     \"0.50_percentile_high\": np.median, \n",
    "     \"0.75_percentile_high\": np.median, \n",
    "     \"0.95_percentile_high\": np.median,\n",
    "     \"min_high\": np.min,\n",
    "     \"max_high\": np.max}\n",
    ").reset_index()"
   ]
  },
  {
   "cell_type": "code",
   "execution_count": 159,
   "id": "743270f2",
   "metadata": {},
   "outputs": [],
   "source": [
    "df_aggregated_by_county.to_csv(\"data_sources/additional_sources/2020_weather_station_to_county_aggregated_by_county.csv\", index=False)"
   ]
  },
  {
   "cell_type": "code",
   "execution_count": null,
   "id": "6136e642",
   "metadata": {},
   "outputs": [],
   "source": []
  }
 ],
 "metadata": {
  "kernelspec": {
   "display_name": "Python 3",
   "language": "python",
   "name": "python3"
  },
  "language_info": {
   "codemirror_mode": {
    "name": "ipython",
    "version": 3
   },
   "file_extension": ".py",
   "mimetype": "text/x-python",
   "name": "python",
   "nbconvert_exporter": "python",
   "pygments_lexer": "ipython3",
   "version": "3.9.4"
  }
 },
 "nbformat": 4,
 "nbformat_minor": 5
}
