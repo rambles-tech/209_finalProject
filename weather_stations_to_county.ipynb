{
 "cells": [
  {
   "cell_type": "code",
   "execution_count": 92,
   "id": "f5e7530d",
   "metadata": {},
   "outputs": [],
   "source": [
    "import pandas as pd\n",
    "import numpy as np\n",
    "import json\n",
    "import requests as r\n",
    "import time\n",
    "from tqdm import tqdm"
   ]
  },
  {
   "cell_type": "code",
   "execution_count": 110,
   "id": "cbb2f3bd",
   "metadata": {},
   "outputs": [],
   "source": [
    "precip = pd.read_json(\"data_sources/additional_sources/2020_precipitation.json\")\n",
    "temp = pd.read_json(\"data_sources/additional_sources/2020_temperature.json\")\n",
    "\n",
    "idToLatLon = pd.concat([precip[[\"id\", \"latitude\", \"longitude\"]], temp[[\"id\", \"latitude\", \"longitude\"]]]) \\\n",
    "    .drop_duplicates() \\\n",
    "    .sort_values([\"latitude\", \"longitude\"]) \\\n",
    "    .reset_index(drop = True)"
   ]
  },
  {
   "cell_type": "code",
   "execution_count": 111,
   "id": "c8f4fb9c",
   "metadata": {},
   "outputs": [
    {
     "data": {
      "text/html": [
       "<div>\n",
       "<style scoped>\n",
       "    .dataframe tbody tr th:only-of-type {\n",
       "        vertical-align: middle;\n",
       "    }\n",
       "\n",
       "    .dataframe tbody tr th {\n",
       "        vertical-align: top;\n",
       "    }\n",
       "\n",
       "    .dataframe thead th {\n",
       "        text-align: right;\n",
       "    }\n",
       "</style>\n",
       "<table border=\"1\" class=\"dataframe\">\n",
       "  <thead>\n",
       "    <tr style=\"text-align: right;\">\n",
       "      <th></th>\n",
       "      <th>id</th>\n",
       "      <th>latitude</th>\n",
       "      <th>longitude</th>\n",
       "    </tr>\n",
       "  </thead>\n",
       "  <tbody>\n",
       "    <tr>\n",
       "      <th>0</th>\n",
       "      <td>AYW00090001</td>\n",
       "      <td>-90.000</td>\n",
       "      <td>0.000</td>\n",
       "    </tr>\n",
       "    <tr>\n",
       "      <th>1</th>\n",
       "      <td>AYM00089606</td>\n",
       "      <td>-78.450</td>\n",
       "      <td>106.867</td>\n",
       "    </tr>\n",
       "    <tr>\n",
       "      <th>2</th>\n",
       "      <td>AYM00089034</td>\n",
       "      <td>-77.867</td>\n",
       "      <td>-34.617</td>\n",
       "    </tr>\n",
       "    <tr>\n",
       "      <th>3</th>\n",
       "      <td>AYM00089022</td>\n",
       "      <td>-75.450</td>\n",
       "      <td>-26.217</td>\n",
       "    </tr>\n",
       "    <tr>\n",
       "      <th>4</th>\n",
       "      <td>AYM00089662</td>\n",
       "      <td>-74.700</td>\n",
       "      <td>164.100</td>\n",
       "    </tr>\n",
       "  </tbody>\n",
       "</table>\n",
       "</div>"
      ],
      "text/plain": [
       "            id  latitude  longitude\n",
       "0  AYW00090001   -90.000      0.000\n",
       "1  AYM00089606   -78.450    106.867\n",
       "2  AYM00089034   -77.867    -34.617\n",
       "3  AYM00089022   -75.450    -26.217\n",
       "4  AYM00089662   -74.700    164.100"
      ]
     },
     "execution_count": 111,
     "metadata": {},
     "output_type": "execute_result"
    }
   ],
   "source": [
    "idToLatLon.head()"
   ]
  },
  {
   "cell_type": "code",
   "execution_count": 116,
   "id": "fb0948e7",
   "metadata": {},
   "outputs": [],
   "source": [
    "# using fcc area api\n",
    "def latLonRequest(lat, lon): \n",
    "    result = r.request(\n",
    "        'get', \n",
    "        'https://geo.fcc.gov/api/census/block/find', \n",
    "        params={'latitude':lat, 'longitude': lon, 'censusYear': 2020, 'format': 'json'})\n",
    "    return json.loads(result.text)\n",
    "\n",
    "def latLonToCounty(row, lat_column=\"latitude\", lon_column=\"longitude\"): \n",
    "    block_response = latLonRequest(row[lat_column], row[lon_column])\n",
    "    block_response = block_response if block_response is not None else {}\n",
    "    row[\"county\"] = block_response.get(\"County\", {}).get(\"name\")\n",
    "    row[\"county_fips\"] = block_response.get(\"County\", {}).get(\"FIPS\")\n",
    "    row[\"state_id\"] = block_response.get(\"State\", {}).get(\"code\")\n",
    "    row[\"state_name\"] = block_response.get(\"State\", {}).get(\"name\")\n",
    "    row[\"state_fips\"] = block_response.get(\"State\", {}).get(\"FIPS\")\n",
    "    row[\"api_request_status\"] = block_response.get(\"status\")\n",
    "    return row"
   ]
  },
  {
   "cell_type": "code",
   "execution_count": 117,
   "id": "8a69247d",
   "metadata": {},
   "outputs": [
    {
     "data": {
      "text/plain": [
       "{'Block': {'FIPS': '330079501002038',\n",
       "  'bbox': [-71.303427, 45.087563, -71.287331, 45.09677]},\n",
       " 'County': {'FIPS': '33007', 'name': 'Coos'},\n",
       " 'State': {'FIPS': '33', 'code': 'NH', 'name': 'New Hampshire'},\n",
       " 'status': 'OK',\n",
       " 'executionTime': '0'}"
      ]
     },
     "execution_count": 117,
     "metadata": {},
     "output_type": "execute_result"
    }
   ],
   "source": [
    "latLonRequest(45.0900, -71.2906)"
   ]
  },
  {
   "cell_type": "code",
   "execution_count": 118,
   "id": "0c013e7d",
   "metadata": {},
   "outputs": [],
   "source": [
    "# calls need delay since api docs specify need to space requests\n",
    "def latLonToCountyRequestWithDelay(df, lat_column, lon_column, delay_sec=0.5):\n",
    "    for (index, data) in tqdm(df.iterrows()):\n",
    "        time.sleep(delay_sec)\n",
    "        yield latLonToCounty(data, lat_column, lon_column)"
   ]
  },
  {
   "cell_type": "code",
   "execution_count": null,
   "id": "16d05ab7",
   "metadata": {},
   "outputs": [
    {
     "name": "stderr",
     "output_type": "stream",
     "text": [
      "\r",
      "0it [00:00, ?it/s]"
     ]
    },
    {
     "name": "stdout",
     "output_type": "stream",
     "text": [
      "part 0\n"
     ]
    },
    {
     "name": "stderr",
     "output_type": "stream",
     "text": [
      "1000it [15:05,  1.10it/s]\n",
      "0it [00:00, ?it/s]"
     ]
    },
    {
     "name": "stdout",
     "output_type": "stream",
     "text": [
      "part 1\n"
     ]
    },
    {
     "name": "stderr",
     "output_type": "stream",
     "text": [
      "368it [05:34,  1.21it/s]"
     ]
    }
   ],
   "source": [
    "for i in range(0, (idToLatLon.shape[0] // 1000) + 1): \n",
    "    print(\"part {}\".format(i))\n",
    "    latLonCounties = list(latLonToCountyRequestWithDelay(idToLatLon[i*1000:(i+1)*1000], \"latitude\", \"longitude\", 0.5))\n",
    "    pd.DataFrame(latLonCounties) \\\n",
    "        .to_csv(\"data_sources/additional_sources/2020_weather_station_to_county_{part}.csv\".format(part=i), \n",
    "                index=False)"
   ]
  },
  {
   "cell_type": "code",
   "execution_count": 99,
   "id": "4fb01679",
   "metadata": {},
   "outputs": [
    {
     "data": {
      "text/plain": [
       "13695"
      ]
     },
     "execution_count": 99,
     "metadata": {},
     "output_type": "execute_result"
    }
   ],
   "source": [
    "idToLatLon.shape[0]"
   ]
  },
  {
   "cell_type": "code",
   "execution_count": null,
   "id": "fb120332",
   "metadata": {},
   "outputs": [],
   "source": []
  }
 ],
 "metadata": {
  "kernelspec": {
   "display_name": "Python 3",
   "language": "python",
   "name": "python3"
  },
  "language_info": {
   "codemirror_mode": {
    "name": "ipython",
    "version": 3
   },
   "file_extension": ".py",
   "mimetype": "text/x-python",
   "name": "python",
   "nbconvert_exporter": "python",
   "pygments_lexer": "ipython3",
   "version": "3.9.4"
  }
 },
 "nbformat": 4,
 "nbformat_minor": 5
}
