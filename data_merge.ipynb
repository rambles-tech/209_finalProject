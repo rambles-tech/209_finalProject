{
 "metadata": {
  "language_info": {
   "codemirror_mode": {
    "name": "ipython",
    "version": 3
   },
   "file_extension": ".py",
   "mimetype": "text/x-python",
   "name": "python",
   "nbconvert_exporter": "python",
   "pygments_lexer": "ipython3",
   "version": "3.9.4"
  },
  "orig_nbformat": 2,
  "kernelspec": {
   "name": "python3",
   "display_name": "Python 3.9.4 64-bit ('py39': conda)"
  },
  "interpreter": {
   "hash": "ef72e1fd873928c100767b4ab692a4ed4e155ac354248008f2a0d308f6cb9a3c"
  }
 },
 "nbformat": 4,
 "nbformat_minor": 2,
 "cells": [
  {
   "cell_type": "code",
   "execution_count": 119,
   "metadata": {},
   "outputs": [],
   "source": [
    "import numpy as np\n",
    "import pandas as pd"
   ]
  },
  {
   "cell_type": "code",
   "execution_count": 120,
   "metadata": {},
   "outputs": [],
   "source": [
    "df = pd.read_csv('data_sources\\\\uscounties.csv', converters={'county_fips': lambda x: str(x)})"
   ]
  },
  {
   "cell_type": "code",
   "execution_count": 121,
   "metadata": {},
   "outputs": [
    {
     "output_type": "execute_result",
     "data": {
      "text/plain": [
       "Index(['county', 'county_ascii', 'county_fips', 'state_id', 'state_name',\n",
       "       'city_largest', 'city_largest_id', 'lat', 'lng', 'population',\n",
       "       'density', 'timezone', 'timezone_all', 'age_median', 'age_under_10',\n",
       "       'age_10_to_19', 'age_20s', 'age_30s', 'age_40s', 'age_50s', 'age_60s',\n",
       "       'age_70s', 'age_over_80', 'male', 'female', 'married', 'divorced',\n",
       "       'never_married', 'widowed', 'family_size', 'family_dual_income',\n",
       "       'income_household_median', 'income_household_under_5',\n",
       "       'income_household_5_to_10', 'income_household_10_to_15',\n",
       "       'income_household_15_to_20', 'income_household_20_to_25',\n",
       "       'income_household_25_to_35', 'income_household_35_to_50',\n",
       "       'income_household_50_to_75', 'income_household_75_to_100',\n",
       "       'income_household_100_to_150', 'income_household_150_over',\n",
       "       'income_household_six_figure', 'income_individual_median',\n",
       "       'home_ownership', 'home_value', 'rent_median', 'rent_burden',\n",
       "       'education_less_highschool', 'education_highschool',\n",
       "       'education_some_college', 'education_bachelors', 'education_graduate',\n",
       "       'education_college_or_above', 'education_stem_degree',\n",
       "       'labor_force_participation', 'labor_force', 'labor_force_average',\n",
       "       'unemployment_rate', 'unemployment_rate_average', 'bls_date',\n",
       "       'race_white', 'race_black', 'race_asian', 'race_native', 'race_pacific',\n",
       "       'race_other', 'race_multiple', 'hispanic', 'disabled', 'poverty',\n",
       "       'limited_english', 'commute_time', 'health_uninsured', 'veteran',\n",
       "       'zips'],\n",
       "      dtype='object')"
      ]
     },
     "metadata": {},
     "execution_count": 121
    }
   ],
   "source": [
    "df.columns"
   ]
  },
  {
   "source": [
    "## Bring in and Clean Weather Data"
   ],
   "cell_type": "markdown",
   "metadata": {}
  },
  {
   "cell_type": "code",
   "execution_count": 122,
   "metadata": {},
   "outputs": [],
   "source": [
    "# weather import\n",
    "df_weather = pd.read_csv('data_sources\\\\additional_sources\\\\2020_weather_station_to_county_aggregated_by_county.csv',\n",
    "                            dtype={'county'             :str,\n",
    "                                    'county_fips'       :int,\n",
    "                                    'state_id'          :str,\n",
    "                                    'state_name'        :str,\n",
    "                                    'state_fips'        :int,\n",
    "                                    'total_precip_mm'   :float,\n",
    "                                    'num_precip_days'   :int,\n",
    "                                    'num_precip_days_greater_1mm'    :int,\n",
    "                                    '0.05_percentile_high'           :float,\n",
    "                                    '0.25_percentile_high'           :float,\n",
    "                                    '0.50_percentile_high'           :float,\n",
    "                                    '0.75_percentile_high'           :float,\n",
    "                                    '0.95_percentile_high'           :float,\n",
    "                                    'min_high'                       :float,\n",
    "                                    'max_high'                       :float\n",
    "                                    })"
   ]
  },
  {
   "source": [
    "df_weather.dtypes"
   ],
   "cell_type": "code",
   "metadata": {},
   "execution_count": 123,
   "outputs": [
    {
     "output_type": "execute_result",
     "data": {
      "text/plain": [
       "county                          object\n",
       "county_fips                      int32\n",
       "state_id                        object\n",
       "state_name                      object\n",
       "state_fips                       int32\n",
       "total_precip_mm                float64\n",
       "num_precip_days                  int32\n",
       "num_precip_days_greater_1mm      int32\n",
       "0.05_percentile_high           float64\n",
       "0.25_percentile_high           float64\n",
       "0.50_percentile_high           float64\n",
       "0.75_percentile_high           float64\n",
       "0.95_percentile_high           float64\n",
       "min_high                       float64\n",
       "max_high                       float64\n",
       "dtype: object"
      ]
     },
     "metadata": {},
     "execution_count": 123
    }
   ]
  },
  {
   "cell_type": "code",
   "execution_count": 124,
   "metadata": {},
   "outputs": [],
   "source": [
    "# ensure all FIPS codes are 5 and 2 digits\n",
    "df_weather['county_fips'] = df_weather['county_fips'].apply(lambda x: '{0:0>5}'.format(str(x)))\n",
    "df_weather['state_fips'] = df_weather['state_fips'].apply(lambda x: '{0:0>2}'.format(str(x)))"
   ]
  },
  {
   "cell_type": "code",
   "execution_count": 125,
   "metadata": {},
   "outputs": [
    {
     "output_type": "execute_result",
     "data": {
      "text/plain": [
       "      county county_fips state_id      state_name state_fips  total_precip_mm  \\\n",
       "0  Abbeville       45001       SC  South Carolina         45           8430.0   \n",
       "1   Accomack       51001       VA        Virginia         51           7493.0   \n",
       "2        Ada       16001       ID           Idaho         16           6690.0   \n",
       "3      Adair       19001       IA            Iowa         19           5762.0   \n",
       "4      Adair       29001       MO        Missouri         29           3218.0   \n",
       "\n",
       "   num_precip_days  num_precip_days_greater_1mm  0.05_percentile_high  \\\n",
       "0              366                          366                 10.00   \n",
       "1              365                          365                  7.50   \n",
       "2              360                          360                  3.30   \n",
       "3              326                          322                 -3.30   \n",
       "4              184                          180                 -5.55   \n",
       "\n",
       "   0.25_percentile_high  0.50_percentile_high  0.75_percentile_high  \\\n",
       "0                 17.80                 23.30                 29.40   \n",
       "1                 14.75                 20.55                 26.95   \n",
       "2                  8.60                 17.50                 28.05   \n",
       "3                  6.10                 16.70                 26.70   \n",
       "4                  3.60                  9.45                 16.65   \n",
       "\n",
       "   0.95_percentile_high  min_high  max_high  \n",
       "0                 32.80       1.7      36.7  \n",
       "1                 31.40       1.7      37.8  \n",
       "2                 33.60      -2.1      41.7  \n",
       "3                 30.60     -14.4      34.4  \n",
       "4                 21.15     -10.6      34.4  "
      ],
      "text/html": "<div>\n<style scoped>\n    .dataframe tbody tr th:only-of-type {\n        vertical-align: middle;\n    }\n\n    .dataframe tbody tr th {\n        vertical-align: top;\n    }\n\n    .dataframe thead th {\n        text-align: right;\n    }\n</style>\n<table border=\"1\" class=\"dataframe\">\n  <thead>\n    <tr style=\"text-align: right;\">\n      <th></th>\n      <th>county</th>\n      <th>county_fips</th>\n      <th>state_id</th>\n      <th>state_name</th>\n      <th>state_fips</th>\n      <th>total_precip_mm</th>\n      <th>num_precip_days</th>\n      <th>num_precip_days_greater_1mm</th>\n      <th>0.05_percentile_high</th>\n      <th>0.25_percentile_high</th>\n      <th>0.50_percentile_high</th>\n      <th>0.75_percentile_high</th>\n      <th>0.95_percentile_high</th>\n      <th>min_high</th>\n      <th>max_high</th>\n    </tr>\n  </thead>\n  <tbody>\n    <tr>\n      <th>0</th>\n      <td>Abbeville</td>\n      <td>45001</td>\n      <td>SC</td>\n      <td>South Carolina</td>\n      <td>45</td>\n      <td>8430.0</td>\n      <td>366</td>\n      <td>366</td>\n      <td>10.00</td>\n      <td>17.80</td>\n      <td>23.30</td>\n      <td>29.40</td>\n      <td>32.80</td>\n      <td>1.7</td>\n      <td>36.7</td>\n    </tr>\n    <tr>\n      <th>1</th>\n      <td>Accomack</td>\n      <td>51001</td>\n      <td>VA</td>\n      <td>Virginia</td>\n      <td>51</td>\n      <td>7493.0</td>\n      <td>365</td>\n      <td>365</td>\n      <td>7.50</td>\n      <td>14.75</td>\n      <td>20.55</td>\n      <td>26.95</td>\n      <td>31.40</td>\n      <td>1.7</td>\n      <td>37.8</td>\n    </tr>\n    <tr>\n      <th>2</th>\n      <td>Ada</td>\n      <td>16001</td>\n      <td>ID</td>\n      <td>Idaho</td>\n      <td>16</td>\n      <td>6690.0</td>\n      <td>360</td>\n      <td>360</td>\n      <td>3.30</td>\n      <td>8.60</td>\n      <td>17.50</td>\n      <td>28.05</td>\n      <td>33.60</td>\n      <td>-2.1</td>\n      <td>41.7</td>\n    </tr>\n    <tr>\n      <th>3</th>\n      <td>Adair</td>\n      <td>19001</td>\n      <td>IA</td>\n      <td>Iowa</td>\n      <td>19</td>\n      <td>5762.0</td>\n      <td>326</td>\n      <td>322</td>\n      <td>-3.30</td>\n      <td>6.10</td>\n      <td>16.70</td>\n      <td>26.70</td>\n      <td>30.60</td>\n      <td>-14.4</td>\n      <td>34.4</td>\n    </tr>\n    <tr>\n      <th>4</th>\n      <td>Adair</td>\n      <td>29001</td>\n      <td>MO</td>\n      <td>Missouri</td>\n      <td>29</td>\n      <td>3218.0</td>\n      <td>184</td>\n      <td>180</td>\n      <td>-5.55</td>\n      <td>3.60</td>\n      <td>9.45</td>\n      <td>16.65</td>\n      <td>21.15</td>\n      <td>-10.6</td>\n      <td>34.4</td>\n    </tr>\n  </tbody>\n</table>\n</div>"
     },
     "metadata": {},
     "execution_count": 125
    }
   ],
   "source": [
    "df_weather.head(5)"
   ]
  },
  {
   "cell_type": "code",
   "execution_count": 136,
   "metadata": {},
   "outputs": [],
   "source": [
    "# drop redundant columns\n",
    "df_weather.columns\n",
    "df_weather.drop(['county', 'state_id', 'state_name', 'state_fips'], axis=1, inplace=True)"
   ]
  },
  {
   "source": [
    "## Bring in and Clean Crime Data"
   ],
   "cell_type": "markdown",
   "metadata": {}
  },
  {
   "cell_type": "code",
   "execution_count": 127,
   "metadata": {},
   "outputs": [],
   "source": [
    "# https://www.kaggle.com/mikejohnsonjr/united-states-crime-rates-by-county\n",
    "df_crime = pd.read_csv('data_sources\\\\additional_sources\\\\crime_data_w_population_and_crime_rate.csv')"
   ]
  },
  {
   "cell_type": "code",
   "execution_count": 128,
   "metadata": {},
   "outputs": [
    {
     "output_type": "execute_result",
     "data": {
      "text/plain": [
       "county_name               object\n",
       "crime_rate_per_100000    float64\n",
       "index                      int64\n",
       "EDITION                    int64\n",
       "PART                       int64\n",
       "IDNO                       int64\n",
       "CPOPARST                   int64\n",
       "CPOPCRIM                   int64\n",
       "AG_ARRST                   int64\n",
       "AG_OFF                     int64\n",
       "COVIND                   float64\n",
       "INDEX                      int64\n",
       "MODINDX                    int64\n",
       "MURDER                     int64\n",
       "RAPE                       int64\n",
       "ROBBERY                    int64\n",
       "AGASSLT                    int64\n",
       "BURGLRY                    int64\n",
       "LARCENY                    int64\n",
       "MVTHEFT                    int64\n",
       "ARSON                      int64\n",
       "population                 int64\n",
       "FIPS_ST                    int64\n",
       "FIPS_CTY                   int64\n",
       "dtype: object"
      ]
     },
     "metadata": {},
     "execution_count": 128
    }
   ],
   "source": [
    "df_crime.dtypes"
   ]
  },
  {
   "cell_type": "code",
   "execution_count": 129,
   "metadata": {},
   "outputs": [],
   "source": [
    "# ensure all FIPS codes are have correct amount of digits and rename columns\n",
    "df_crime['FIPS_ST'] = df_crime['FIPS_ST'].apply(lambda x: '{0:0>2}'.format(str(x)))\n",
    "df_crime['FIPS_CTY'] = df_crime['FIPS_CTY'].apply(lambda x: '{0:0>3}'.format(str(x)))\n",
    "\n",
    "df_crime['county_fips'] = df_crime['FIPS_ST'] + df_crime['FIPS_CTY']"
   ]
  },
  {
   "cell_type": "code",
   "execution_count": 130,
   "metadata": {},
   "outputs": [
    {
     "output_type": "execute_result",
     "data": {
      "text/plain": [
       "             county_name  crime_rate_per_100000  index  EDITION  PART  IDNO  \\\n",
       "0     St. Louis city, MO            1791.995377      1        1     4  1612   \n",
       "1  Crittenden County, AR            1754.914968      2        1     4   130   \n",
       "2   Alexander County, IL            1664.700485      3        1     4   604   \n",
       "3      Kenedy County, TX            1456.310680      4        1     4  2681   \n",
       "4     De Soto Parish, LA            1447.402430      5        1     4  1137   \n",
       "\n",
       "   CPOPARST  CPOPCRIM  AG_ARRST  AG_OFF  ...  ROBBERY  AGASSLT  BURGLRY  \\\n",
       "0    318667    318667        15      15  ...     1778     3609     4995   \n",
       "1     50717     50717         4       4  ...      165      662     1482   \n",
       "2      8040      8040         2       2  ...        5      119       82   \n",
       "3       444       444         1       1  ...        1        2        5   \n",
       "4     26971     26971         3       3  ...       17      368      149   \n",
       "\n",
       "   LARCENY  MVTHEFT  ARSON  population  FIPS_ST  FIPS_CTY  county_fips  \n",
       "0    13791     3543    464      318416       29       510        29510  \n",
       "1     1753      189     28       49746       05       035        05035  \n",
       "2      184       12      2        7629       17       003        17003  \n",
       "3        4        4      0         412       48       261        48261  \n",
       "4      494       60      0       27083       22       031        22031  \n",
       "\n",
       "[5 rows x 25 columns]"
      ],
      "text/html": "<div>\n<style scoped>\n    .dataframe tbody tr th:only-of-type {\n        vertical-align: middle;\n    }\n\n    .dataframe tbody tr th {\n        vertical-align: top;\n    }\n\n    .dataframe thead th {\n        text-align: right;\n    }\n</style>\n<table border=\"1\" class=\"dataframe\">\n  <thead>\n    <tr style=\"text-align: right;\">\n      <th></th>\n      <th>county_name</th>\n      <th>crime_rate_per_100000</th>\n      <th>index</th>\n      <th>EDITION</th>\n      <th>PART</th>\n      <th>IDNO</th>\n      <th>CPOPARST</th>\n      <th>CPOPCRIM</th>\n      <th>AG_ARRST</th>\n      <th>AG_OFF</th>\n      <th>...</th>\n      <th>ROBBERY</th>\n      <th>AGASSLT</th>\n      <th>BURGLRY</th>\n      <th>LARCENY</th>\n      <th>MVTHEFT</th>\n      <th>ARSON</th>\n      <th>population</th>\n      <th>FIPS_ST</th>\n      <th>FIPS_CTY</th>\n      <th>county_fips</th>\n    </tr>\n  </thead>\n  <tbody>\n    <tr>\n      <th>0</th>\n      <td>St. Louis city, MO</td>\n      <td>1791.995377</td>\n      <td>1</td>\n      <td>1</td>\n      <td>4</td>\n      <td>1612</td>\n      <td>318667</td>\n      <td>318667</td>\n      <td>15</td>\n      <td>15</td>\n      <td>...</td>\n      <td>1778</td>\n      <td>3609</td>\n      <td>4995</td>\n      <td>13791</td>\n      <td>3543</td>\n      <td>464</td>\n      <td>318416</td>\n      <td>29</td>\n      <td>510</td>\n      <td>29510</td>\n    </tr>\n    <tr>\n      <th>1</th>\n      <td>Crittenden County, AR</td>\n      <td>1754.914968</td>\n      <td>2</td>\n      <td>1</td>\n      <td>4</td>\n      <td>130</td>\n      <td>50717</td>\n      <td>50717</td>\n      <td>4</td>\n      <td>4</td>\n      <td>...</td>\n      <td>165</td>\n      <td>662</td>\n      <td>1482</td>\n      <td>1753</td>\n      <td>189</td>\n      <td>28</td>\n      <td>49746</td>\n      <td>05</td>\n      <td>035</td>\n      <td>05035</td>\n    </tr>\n    <tr>\n      <th>2</th>\n      <td>Alexander County, IL</td>\n      <td>1664.700485</td>\n      <td>3</td>\n      <td>1</td>\n      <td>4</td>\n      <td>604</td>\n      <td>8040</td>\n      <td>8040</td>\n      <td>2</td>\n      <td>2</td>\n      <td>...</td>\n      <td>5</td>\n      <td>119</td>\n      <td>82</td>\n      <td>184</td>\n      <td>12</td>\n      <td>2</td>\n      <td>7629</td>\n      <td>17</td>\n      <td>003</td>\n      <td>17003</td>\n    </tr>\n    <tr>\n      <th>3</th>\n      <td>Kenedy County, TX</td>\n      <td>1456.310680</td>\n      <td>4</td>\n      <td>1</td>\n      <td>4</td>\n      <td>2681</td>\n      <td>444</td>\n      <td>444</td>\n      <td>1</td>\n      <td>1</td>\n      <td>...</td>\n      <td>1</td>\n      <td>2</td>\n      <td>5</td>\n      <td>4</td>\n      <td>4</td>\n      <td>0</td>\n      <td>412</td>\n      <td>48</td>\n      <td>261</td>\n      <td>48261</td>\n    </tr>\n    <tr>\n      <th>4</th>\n      <td>De Soto Parish, LA</td>\n      <td>1447.402430</td>\n      <td>5</td>\n      <td>1</td>\n      <td>4</td>\n      <td>1137</td>\n      <td>26971</td>\n      <td>26971</td>\n      <td>3</td>\n      <td>3</td>\n      <td>...</td>\n      <td>17</td>\n      <td>368</td>\n      <td>149</td>\n      <td>494</td>\n      <td>60</td>\n      <td>0</td>\n      <td>27083</td>\n      <td>22</td>\n      <td>031</td>\n      <td>22031</td>\n    </tr>\n  </tbody>\n</table>\n<p>5 rows × 25 columns</p>\n</div>"
     },
     "metadata": {},
     "execution_count": 130
    }
   ],
   "source": [
    "df_crime.head()"
   ]
  },
  {
   "cell_type": "code",
   "execution_count": 131,
   "metadata": {},
   "outputs": [],
   "source": [
    "# drop unneeded cols\n",
    "df_crime= df_crime[['county_fips', 'crime_rate_per_100000']]    "
   ]
  },
  {
   "cell_type": "code",
   "execution_count": 132,
   "metadata": {},
   "outputs": [
    {
     "output_type": "execute_result",
     "data": {
      "text/plain": [
       "  county_fips  crime_rate_per_100000\n",
       "0       29510            1791.995377\n",
       "1       05035            1754.914968\n",
       "2       17003            1664.700485\n",
       "3       48261            1456.310680\n",
       "4       22031            1447.402430"
      ],
      "text/html": "<div>\n<style scoped>\n    .dataframe tbody tr th:only-of-type {\n        vertical-align: middle;\n    }\n\n    .dataframe tbody tr th {\n        vertical-align: top;\n    }\n\n    .dataframe thead th {\n        text-align: right;\n    }\n</style>\n<table border=\"1\" class=\"dataframe\">\n  <thead>\n    <tr style=\"text-align: right;\">\n      <th></th>\n      <th>county_fips</th>\n      <th>crime_rate_per_100000</th>\n    </tr>\n  </thead>\n  <tbody>\n    <tr>\n      <th>0</th>\n      <td>29510</td>\n      <td>1791.995377</td>\n    </tr>\n    <tr>\n      <th>1</th>\n      <td>05035</td>\n      <td>1754.914968</td>\n    </tr>\n    <tr>\n      <th>2</th>\n      <td>17003</td>\n      <td>1664.700485</td>\n    </tr>\n    <tr>\n      <th>3</th>\n      <td>48261</td>\n      <td>1456.310680</td>\n    </tr>\n    <tr>\n      <th>4</th>\n      <td>22031</td>\n      <td>1447.402430</td>\n    </tr>\n  </tbody>\n</table>\n</div>"
     },
     "metadata": {},
     "execution_count": 132
    }
   ],
   "source": [
    "df_crime.head()"
   ]
  },
  {
   "source": [
    "## Combine datasets\n"
   ],
   "cell_type": "markdown",
   "metadata": {}
  },
  {
   "cell_type": "code",
   "execution_count": 116,
   "metadata": {},
   "outputs": [
    {
     "output_type": "execute_result",
     "data": {
      "text/plain": [
       "Index(['county', 'county_fips', 'state_id', 'state_name', 'state_fips',\n",
       "       'total_precip_mm', 'num_precip_days', 'num_precip_days_greater_1mm',\n",
       "       '0.05_percentile_high', '0.25_percentile_high', '0.50_percentile_high',\n",
       "       '0.75_percentile_high', '0.95_percentile_high', 'min_high', 'max_high'],\n",
       "      dtype='object')"
      ]
     },
     "metadata": {},
     "execution_count": 116
    }
   ],
   "source": []
  },
  {
   "cell_type": "code",
   "execution_count": 141,
   "metadata": {},
   "outputs": [
    {
     "output_type": "execute_result",
     "data": {
      "text/plain": [
       "       county county_ascii county_fips state_id      state_name  \\\n",
       "0   Abbeville    Abbeville       45001       SC  South Carolina   \n",
       "1    Accomack     Accomack       51001       VA        Virginia   \n",
       "2         Ada          Ada       16001       ID           Idaho   \n",
       "3       Adair        Adair       19001       IA            Iowa   \n",
       "4       Adair        Adair       29001       MO        Missouri   \n",
       "5       Adams        Adams       08001       CO        Colorado   \n",
       "6       Adams        Adams       17001       IL        Illinois   \n",
       "7       Adams        Adams       18001       IN         Indiana   \n",
       "8       Adams        Adams       19003       IA            Iowa   \n",
       "9       Adams        Adams       31001       NE        Nebraska   \n",
       "10      Adams        Adams       42001       PA    Pennsylvania   \n",
       "11      Adams        Adams       16003       ID           Idaho   \n",
       "12      Adams        Adams       38001       ND    North Dakota   \n",
       "13      Adams        Adams       53001       WA      Washington   \n",
       "14      Adams        Adams       55001       WI       Wisconsin   \n",
       "\n",
       "       city_largest  city_largest_id      lat       lng  population  ...  \\\n",
       "0         Abbeville     1.840014e+09  34.2226  -82.4592     24627.0  ...   \n",
       "1      Chincoteague     1.840006e+09  37.7643  -75.6333     32673.0  ...   \n",
       "2             Boise     1.840027e+09  43.4511 -116.2412    456849.0  ...   \n",
       "3        Greenfield     1.840008e+09  41.3307  -94.4710      7085.0  ...   \n",
       "4        Kirksville     1.840008e+09  40.1906  -92.6007     25369.0  ...   \n",
       "5            Aurora     1.840019e+09  39.8736 -104.3378    504108.0  ...   \n",
       "6            Quincy     1.840009e+09  39.9879  -91.1885     66085.0  ...   \n",
       "7           Decatur     1.840007e+09  40.7457  -84.9366     35376.0  ...   \n",
       "8           Corning     1.840007e+09  41.0290  -94.6992      3670.0  ...   \n",
       "9          Hastings     1.840001e+09  40.5245  -98.5012     31587.0  ...   \n",
       "10       Gettysburg     1.840001e+09  39.8715  -77.2179    102470.0  ...   \n",
       "11          Council     1.840019e+09  44.8896 -116.4538      4097.0  ...   \n",
       "12        Hettinger     1.840000e+09  46.0968 -102.5284      2311.0  ...   \n",
       "13          Othello     1.840020e+09  46.9834 -118.5606     19594.0  ...   \n",
       "14  Wisconsin Dells     1.840003e+09  43.9695  -89.7704     20094.0  ...   \n",
       "\n",
       "    total_precip_mm num_precip_days num_precip_days_greater_1mm  \\\n",
       "0            8430.0             366                         366   \n",
       "1            7493.0             365                         365   \n",
       "2            6690.0             360                         360   \n",
       "3            5762.0             326                         322   \n",
       "4            3218.0             184                         180   \n",
       "5            7293.0             341                         340   \n",
       "6            5963.0             323                         320   \n",
       "7            5997.0             341                         333   \n",
       "8            5959.0             330                         327   \n",
       "9            6539.0             342                         334   \n",
       "10           6422.0             354                         353   \n",
       "11           4546.0             328                         314   \n",
       "12           5368.0             317                         312   \n",
       "13           6474.0             356                         351   \n",
       "14           4970.0             313                         308   \n",
       "\n",
       "    0.05_percentile_high  0.25_percentile_high  0.50_percentile_high  \\\n",
       "0                  10.00                 17.80                 23.30   \n",
       "1                   7.50                 14.75                 20.55   \n",
       "2                   3.30                  8.60                 17.50   \n",
       "3                  -3.30                  6.10                 16.70   \n",
       "4                  -5.55                  3.60                  9.45   \n",
       "5                   0.00                 10.80                 21.15   \n",
       "6                  -0.25                  8.05                 17.25   \n",
       "7                  -0.60                  7.20                 16.70   \n",
       "8                  -2.20                  7.20                 16.10   \n",
       "9                  -1.05                  8.05                 19.15   \n",
       "10                  2.20                  9.40                 17.80   \n",
       "11                 -1.70                  3.50                 10.80   \n",
       "12                 -5.25                  4.70                 15.30   \n",
       "13                  1.70                  8.90                 17.80   \n",
       "14                 -3.30                  3.30                 12.80   \n",
       "\n",
       "    0.75_percentile_high  0.95_percentile_high  min_high  max_high  \n",
       "0                  29.40                 32.80       1.7      36.7  \n",
       "1                  26.95                 31.40       1.7      37.8  \n",
       "2                  28.05                 33.60      -2.1      41.7  \n",
       "3                  26.70                 30.60     -14.4      34.4  \n",
       "4                  16.65                 21.15     -10.6      34.4  \n",
       "5                  30.85                 35.00      -9.4      38.9  \n",
       "6                  27.50                 31.15     -13.3      35.0  \n",
       "7                  26.40                 30.85      -9.4      36.1  \n",
       "8                  26.70                 30.60     -14.4      34.4  \n",
       "9                  28.60                 32.50      -8.8      38.3  \n",
       "10                 27.20                 31.10      -3.9      37.8  \n",
       "11                 21.65                 26.95      -6.3      37.8  \n",
       "12                 25.85                 30.00     -17.8      36.7  \n",
       "13                 27.20                 32.20      -8.9      43.3  \n",
       "14                 23.90                 29.40     -12.8      33.9  \n",
       "\n",
       "[15 rows x 87 columns]"
      ],
      "text/html": "<div>\n<style scoped>\n    .dataframe tbody tr th:only-of-type {\n        vertical-align: middle;\n    }\n\n    .dataframe tbody tr th {\n        vertical-align: top;\n    }\n\n    .dataframe thead th {\n        text-align: right;\n    }\n</style>\n<table border=\"1\" class=\"dataframe\">\n  <thead>\n    <tr style=\"text-align: right;\">\n      <th></th>\n      <th>county</th>\n      <th>county_ascii</th>\n      <th>county_fips</th>\n      <th>state_id</th>\n      <th>state_name</th>\n      <th>city_largest</th>\n      <th>city_largest_id</th>\n      <th>lat</th>\n      <th>lng</th>\n      <th>population</th>\n      <th>...</th>\n      <th>total_precip_mm</th>\n      <th>num_precip_days</th>\n      <th>num_precip_days_greater_1mm</th>\n      <th>0.05_percentile_high</th>\n      <th>0.25_percentile_high</th>\n      <th>0.50_percentile_high</th>\n      <th>0.75_percentile_high</th>\n      <th>0.95_percentile_high</th>\n      <th>min_high</th>\n      <th>max_high</th>\n    </tr>\n  </thead>\n  <tbody>\n    <tr>\n      <th>0</th>\n      <td>Abbeville</td>\n      <td>Abbeville</td>\n      <td>45001</td>\n      <td>SC</td>\n      <td>South Carolina</td>\n      <td>Abbeville</td>\n      <td>1.840014e+09</td>\n      <td>34.2226</td>\n      <td>-82.4592</td>\n      <td>24627.0</td>\n      <td>...</td>\n      <td>8430.0</td>\n      <td>366</td>\n      <td>366</td>\n      <td>10.00</td>\n      <td>17.80</td>\n      <td>23.30</td>\n      <td>29.40</td>\n      <td>32.80</td>\n      <td>1.7</td>\n      <td>36.7</td>\n    </tr>\n    <tr>\n      <th>1</th>\n      <td>Accomack</td>\n      <td>Accomack</td>\n      <td>51001</td>\n      <td>VA</td>\n      <td>Virginia</td>\n      <td>Chincoteague</td>\n      <td>1.840006e+09</td>\n      <td>37.7643</td>\n      <td>-75.6333</td>\n      <td>32673.0</td>\n      <td>...</td>\n      <td>7493.0</td>\n      <td>365</td>\n      <td>365</td>\n      <td>7.50</td>\n      <td>14.75</td>\n      <td>20.55</td>\n      <td>26.95</td>\n      <td>31.40</td>\n      <td>1.7</td>\n      <td>37.8</td>\n    </tr>\n    <tr>\n      <th>2</th>\n      <td>Ada</td>\n      <td>Ada</td>\n      <td>16001</td>\n      <td>ID</td>\n      <td>Idaho</td>\n      <td>Boise</td>\n      <td>1.840027e+09</td>\n      <td>43.4511</td>\n      <td>-116.2412</td>\n      <td>456849.0</td>\n      <td>...</td>\n      <td>6690.0</td>\n      <td>360</td>\n      <td>360</td>\n      <td>3.30</td>\n      <td>8.60</td>\n      <td>17.50</td>\n      <td>28.05</td>\n      <td>33.60</td>\n      <td>-2.1</td>\n      <td>41.7</td>\n    </tr>\n    <tr>\n      <th>3</th>\n      <td>Adair</td>\n      <td>Adair</td>\n      <td>19001</td>\n      <td>IA</td>\n      <td>Iowa</td>\n      <td>Greenfield</td>\n      <td>1.840008e+09</td>\n      <td>41.3307</td>\n      <td>-94.4710</td>\n      <td>7085.0</td>\n      <td>...</td>\n      <td>5762.0</td>\n      <td>326</td>\n      <td>322</td>\n      <td>-3.30</td>\n      <td>6.10</td>\n      <td>16.70</td>\n      <td>26.70</td>\n      <td>30.60</td>\n      <td>-14.4</td>\n      <td>34.4</td>\n    </tr>\n    <tr>\n      <th>4</th>\n      <td>Adair</td>\n      <td>Adair</td>\n      <td>29001</td>\n      <td>MO</td>\n      <td>Missouri</td>\n      <td>Kirksville</td>\n      <td>1.840008e+09</td>\n      <td>40.1906</td>\n      <td>-92.6007</td>\n      <td>25369.0</td>\n      <td>...</td>\n      <td>3218.0</td>\n      <td>184</td>\n      <td>180</td>\n      <td>-5.55</td>\n      <td>3.60</td>\n      <td>9.45</td>\n      <td>16.65</td>\n      <td>21.15</td>\n      <td>-10.6</td>\n      <td>34.4</td>\n    </tr>\n    <tr>\n      <th>5</th>\n      <td>Adams</td>\n      <td>Adams</td>\n      <td>08001</td>\n      <td>CO</td>\n      <td>Colorado</td>\n      <td>Aurora</td>\n      <td>1.840019e+09</td>\n      <td>39.8736</td>\n      <td>-104.3378</td>\n      <td>504108.0</td>\n      <td>...</td>\n      <td>7293.0</td>\n      <td>341</td>\n      <td>340</td>\n      <td>0.00</td>\n      <td>10.80</td>\n      <td>21.15</td>\n      <td>30.85</td>\n      <td>35.00</td>\n      <td>-9.4</td>\n      <td>38.9</td>\n    </tr>\n    <tr>\n      <th>6</th>\n      <td>Adams</td>\n      <td>Adams</td>\n      <td>17001</td>\n      <td>IL</td>\n      <td>Illinois</td>\n      <td>Quincy</td>\n      <td>1.840009e+09</td>\n      <td>39.9879</td>\n      <td>-91.1885</td>\n      <td>66085.0</td>\n      <td>...</td>\n      <td>5963.0</td>\n      <td>323</td>\n      <td>320</td>\n      <td>-0.25</td>\n      <td>8.05</td>\n      <td>17.25</td>\n      <td>27.50</td>\n      <td>31.15</td>\n      <td>-13.3</td>\n      <td>35.0</td>\n    </tr>\n    <tr>\n      <th>7</th>\n      <td>Adams</td>\n      <td>Adams</td>\n      <td>18001</td>\n      <td>IN</td>\n      <td>Indiana</td>\n      <td>Decatur</td>\n      <td>1.840007e+09</td>\n      <td>40.7457</td>\n      <td>-84.9366</td>\n      <td>35376.0</td>\n      <td>...</td>\n      <td>5997.0</td>\n      <td>341</td>\n      <td>333</td>\n      <td>-0.60</td>\n      <td>7.20</td>\n      <td>16.70</td>\n      <td>26.40</td>\n      <td>30.85</td>\n      <td>-9.4</td>\n      <td>36.1</td>\n    </tr>\n    <tr>\n      <th>8</th>\n      <td>Adams</td>\n      <td>Adams</td>\n      <td>19003</td>\n      <td>IA</td>\n      <td>Iowa</td>\n      <td>Corning</td>\n      <td>1.840007e+09</td>\n      <td>41.0290</td>\n      <td>-94.6992</td>\n      <td>3670.0</td>\n      <td>...</td>\n      <td>5959.0</td>\n      <td>330</td>\n      <td>327</td>\n      <td>-2.20</td>\n      <td>7.20</td>\n      <td>16.10</td>\n      <td>26.70</td>\n      <td>30.60</td>\n      <td>-14.4</td>\n      <td>34.4</td>\n    </tr>\n    <tr>\n      <th>9</th>\n      <td>Adams</td>\n      <td>Adams</td>\n      <td>31001</td>\n      <td>NE</td>\n      <td>Nebraska</td>\n      <td>Hastings</td>\n      <td>1.840001e+09</td>\n      <td>40.5245</td>\n      <td>-98.5012</td>\n      <td>31587.0</td>\n      <td>...</td>\n      <td>6539.0</td>\n      <td>342</td>\n      <td>334</td>\n      <td>-1.05</td>\n      <td>8.05</td>\n      <td>19.15</td>\n      <td>28.60</td>\n      <td>32.50</td>\n      <td>-8.8</td>\n      <td>38.3</td>\n    </tr>\n    <tr>\n      <th>10</th>\n      <td>Adams</td>\n      <td>Adams</td>\n      <td>42001</td>\n      <td>PA</td>\n      <td>Pennsylvania</td>\n      <td>Gettysburg</td>\n      <td>1.840001e+09</td>\n      <td>39.8715</td>\n      <td>-77.2179</td>\n      <td>102470.0</td>\n      <td>...</td>\n      <td>6422.0</td>\n      <td>354</td>\n      <td>353</td>\n      <td>2.20</td>\n      <td>9.40</td>\n      <td>17.80</td>\n      <td>27.20</td>\n      <td>31.10</td>\n      <td>-3.9</td>\n      <td>37.8</td>\n    </tr>\n    <tr>\n      <th>11</th>\n      <td>Adams</td>\n      <td>Adams</td>\n      <td>16003</td>\n      <td>ID</td>\n      <td>Idaho</td>\n      <td>Council</td>\n      <td>1.840019e+09</td>\n      <td>44.8896</td>\n      <td>-116.4538</td>\n      <td>4097.0</td>\n      <td>...</td>\n      <td>4546.0</td>\n      <td>328</td>\n      <td>314</td>\n      <td>-1.70</td>\n      <td>3.50</td>\n      <td>10.80</td>\n      <td>21.65</td>\n      <td>26.95</td>\n      <td>-6.3</td>\n      <td>37.8</td>\n    </tr>\n    <tr>\n      <th>12</th>\n      <td>Adams</td>\n      <td>Adams</td>\n      <td>38001</td>\n      <td>ND</td>\n      <td>North Dakota</td>\n      <td>Hettinger</td>\n      <td>1.840000e+09</td>\n      <td>46.0968</td>\n      <td>-102.5284</td>\n      <td>2311.0</td>\n      <td>...</td>\n      <td>5368.0</td>\n      <td>317</td>\n      <td>312</td>\n      <td>-5.25</td>\n      <td>4.70</td>\n      <td>15.30</td>\n      <td>25.85</td>\n      <td>30.00</td>\n      <td>-17.8</td>\n      <td>36.7</td>\n    </tr>\n    <tr>\n      <th>13</th>\n      <td>Adams</td>\n      <td>Adams</td>\n      <td>53001</td>\n      <td>WA</td>\n      <td>Washington</td>\n      <td>Othello</td>\n      <td>1.840020e+09</td>\n      <td>46.9834</td>\n      <td>-118.5606</td>\n      <td>19594.0</td>\n      <td>...</td>\n      <td>6474.0</td>\n      <td>356</td>\n      <td>351</td>\n      <td>1.70</td>\n      <td>8.90</td>\n      <td>17.80</td>\n      <td>27.20</td>\n      <td>32.20</td>\n      <td>-8.9</td>\n      <td>43.3</td>\n    </tr>\n    <tr>\n      <th>14</th>\n      <td>Adams</td>\n      <td>Adams</td>\n      <td>55001</td>\n      <td>WI</td>\n      <td>Wisconsin</td>\n      <td>Wisconsin Dells</td>\n      <td>1.840003e+09</td>\n      <td>43.9695</td>\n      <td>-89.7704</td>\n      <td>20094.0</td>\n      <td>...</td>\n      <td>4970.0</td>\n      <td>313</td>\n      <td>308</td>\n      <td>-3.30</td>\n      <td>3.30</td>\n      <td>12.80</td>\n      <td>23.90</td>\n      <td>29.40</td>\n      <td>-12.8</td>\n      <td>33.9</td>\n    </tr>\n  </tbody>\n</table>\n<p>15 rows × 87 columns</p>\n</div>"
     },
     "metadata": {},
     "execution_count": 141
    }
   ],
   "source": [
    "combined_df = df.merge(df_weather, how='right', on='county_fips')\n",
    "combined_df.head(15)"
   ]
  },
  {
   "cell_type": "code",
   "execution_count": 145,
   "metadata": {},
   "outputs": [
    {
     "output_type": "execute_result",
     "data": {
      "text/plain": [
       "3152"
      ]
     },
     "metadata": {},
     "execution_count": 145
    }
   ],
   "source": [
    "combined_df = combined_df.merge(df_crime, how='right', on='county_fips')\n",
    "combined_df.head(15)\n",
    "len(combined_df)"
   ]
  },
  {
   "cell_type": "code",
   "execution_count": 153,
   "metadata": {},
   "outputs": [],
   "source": [
    "# crime data has extra FIPS, drop rows\n",
    "combined_df = combined_df.dropna(thresh=10)"
   ]
  },
  {
   "cell_type": "code",
   "execution_count": 154,
   "metadata": {},
   "outputs": [],
   "source": [
    "combined_df.to_csv(\"data_sources//combined_data.csv\", index=False)"
   ]
  },
  {
   "cell_type": "code",
   "execution_count": null,
   "metadata": {},
   "outputs": [],
   "source": []
  }
 ]
}